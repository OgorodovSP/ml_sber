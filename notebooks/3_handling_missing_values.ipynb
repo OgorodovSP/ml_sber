{
 "cells": [
  {
   "cell_type": "markdown",
   "metadata": {
    "id": "AZxtOc-9BUkN"
   },
   "source": [
    "## Import Libraries\n"
   ]
  },
  {
   "cell_type": "code",
   "execution_count": 93,
   "metadata": {
    "id": "ZOtoGnWUBnX9"
   },
   "outputs": [],
   "source": [
    "import numpy as np\n",
    "import seaborn as sns\n",
    "import pickle\n",
    "import missingno as msno\n",
    "import pandas as pd\n",
    "import matplotlib.pyplot as plt\n",
    "\n",
    "import warnings\n",
    "warnings.filterwarnings('ignore')\n"
   ]
  },
  {
   "cell_type": "markdown",
   "metadata": {},
   "source": [
    "## My function"
   ]
  },
  {
   "cell_type": "code",
   "execution_count": 94,
   "metadata": {},
   "outputs": [],
   "source": [
    "## memory optimisation \n",
    "def reduce_mem_usage(df, cat_cols=[]):\n",
    "    \"\"\" iterate through all the columns of a dataframe and modify the data type\n",
    "        to reduce memory usage.\n",
    "    \"\"\"\n",
    "    start_mem = df.memory_usage().sum() / 1024**2\n",
    "    \n",
    "    for col in df.columns:\n",
    "        col_type = df[col].dtype.name\n",
    "        \n",
    "        if col in cat_cols:\n",
    "            df[col] = df[col].astype('category')\n",
    "\n",
    "        if col_type not in ['object', 'category', 'datetime64[ns, UTC]']:\n",
    "            c_min = df[col].min()\n",
    "            c_max = df[col].max()\n",
    "            if str(col_type)[:3] == 'int':\n",
    "                if c_min > np.iinfo(np.int8).min and c_max < np.iinfo(np.int8).max:\n",
    "                    df[col] = df[col].astype(np.int8)\n",
    "                elif c_min > np.iinfo(np.int16).min and c_max < np.iinfo(np.int16).max:\n",
    "                    df[col] = df[col].astype(np.int16)\n",
    "                elif c_min > np.iinfo(np.int32).min and c_max < np.iinfo(np.int32).max:\n",
    "                    df[col] = df[col].astype(np.int32)\n",
    "                elif c_min > np.iinfo(np.int64).min and c_max < np.iinfo(np.int64).max:\n",
    "                    df[col] = df[col].astype(np.int64)\n",
    "            else:\n",
    "                if c_min > np.finfo(np.float16).min and c_max < np.finfo(np.float16).max:\n",
    "                    df[col] = df[col].astype(np.float16)\n",
    "                elif c_min > np.finfo(np.float32).min and c_max < np.finfo(np.float32).max:\n",
    "                    df[col] = df[col].astype(np.float32)\n",
    "                else:\n",
    "                    df[col] = df[col].astype(np.float64)\n",
    "\n",
    "    end_mem = df.memory_usage().sum() / 1024**2\n",
    "    return df"
   ]
  },
  {
   "cell_type": "code",
   "execution_count": 95,
   "metadata": {},
   "outputs": [],
   "source": [
    "#convert object columns to category (with see memory_usage - for control)\n",
    "def convert_columns_to_catg(df, cat_cols):\n",
    "    for col in cat_cols:\n",
    "        print(\"converting\", col.ljust(30), \"size: \", round(df[col].memory_usage(deep=True)*1e-6,2), end=\"\\t\")\n",
    "        df[col] = df[col].astype(\"category\")\n",
    "        print(\"->\\t\", round(df[col].memory_usage(deep=True)*1e-6,2))"
   ]
  },
  {
   "cell_type": "code",
   "execution_count": 96,
   "metadata": {},
   "outputs": [],
   "source": [
    "##function NaN values in persent%\n",
    "def missing_values(df):\n",
    "  missing_values = round(((df.isna().sum() / len(df)) * 100).sort_values(ascending=False), 2)\n",
    "  return missing_values"
   ]
  },
  {
   "cell_type": "markdown",
   "metadata": {
    "id": "6Av5ox91VCeI"
   },
   "source": [
    "### HANDLING MISSING VALUES"
   ]
  },
  {
   "cell_type": "code",
   "execution_count": null,
   "metadata": {},
   "outputs": [],
   "source": [
    "# #read data\n",
    "df = pd.read_csv('../data/df_with_target.csv')\n",
    "print(df.shape)\n",
    "df.head(5)"
   ]
  },
  {
   "cell_type": "markdown",
   "metadata": {
    "id": "ADw5XmpjADWO"
   },
   "source": [
    "##### step 1"
   ]
  },
  {
   "cell_type": "code",
   "execution_count": 124,
   "metadata": {
    "id": "A2acAKGTK2Fo"
   },
   "outputs": [],
   "source": [
    "#drop device_model, becouse it is almost emty\n",
    "df.drop(columns = ['device_model'], inplace = True)"
   ]
  },
  {
   "cell_type": "code",
   "execution_count": 125,
   "metadata": {
    "colab": {
     "base_uri": "https://localhost:8080/"
    },
    "id": "FR4OETRiLc84",
    "outputId": "862f912a-61bd-469e-cd25-db89c8527b9e"
   },
   "outputs": [
    {
     "name": "stdout",
     "output_type": "stream",
     "text": [
      "(1898195, 18)\n"
     ]
    },
    {
     "data": {
      "text/plain": [
       "event_action                95.34\n",
       "utm_keyword                 58.31\n",
       "device_os                   57.68\n",
       "device_brand                19.83\n",
       "utm_adcontent               18.14\n",
       "utm_campaign                11.97\n",
       "utm_source                   0.06\n",
       "visit_date                   0.06\n",
       "visit_time                   0.06\n",
       "visit_number                 0.06\n",
       "utm_medium                   0.06\n",
       "client_id                    0.06\n",
       "device_category              0.06\n",
       "device_screen_resolution     0.06\n",
       "device_browser               0.06\n",
       "geo_country                  0.06\n",
       "geo_city                     0.06\n",
       "session_id                   0.00\n",
       "dtype: float64"
      ]
     },
     "execution_count": 125,
     "metadata": {},
     "output_type": "execute_result"
    }
   ],
   "source": [
    "print(df.shape)\n",
    "missing_values(df)"
   ]
  },
  {
   "cell_type": "code",
   "execution_count": 126,
   "metadata": {
    "id": "lYbzAqxyVKOp"
   },
   "outputs": [],
   "source": [
    "#Creating list of columns with too little missing values\n",
    "cols_for_dropna = ['utm_source', 'visit_time', 'visit_number', 'utm_medium', 'client_id', 'device_category', 'visit_date', 'device_screen_resolution', 'device_browser', 'geo_country', 'geo_city']"
   ]
  },
  {
   "cell_type": "code",
   "execution_count": 127,
   "metadata": {
    "id": "uc14rJf7KVaC"
   },
   "outputs": [],
   "source": [
    "# Drop some rows with Na. Because too little missing values\n",
    "df.dropna(subset = cols_for_dropna, inplace = True)"
   ]
  },
  {
   "cell_type": "code",
   "execution_count": 128,
   "metadata": {
    "colab": {
     "base_uri": "https://localhost:8080/"
    },
    "id": "u240clDvLJ98",
    "outputId": "cac36ef4-ad03-432b-aca5-9b0b4f51e249"
   },
   "outputs": [
    {
     "data": {
      "text/plain": [
       "(1897005, 18)"
      ]
     },
     "execution_count": 128,
     "metadata": {},
     "output_type": "execute_result"
    }
   ],
   "source": [
    "#view shape\n",
    "df.shape"
   ]
  },
  {
   "cell_type": "code",
   "execution_count": 129,
   "metadata": {
    "colab": {
     "base_uri": "https://localhost:8080/"
    },
    "id": "ZDliTo0LNNhJ",
    "outputId": "109d08b8-faee-43b7-f94b-469f44fc4b3e"
   },
   "outputs": [
    {
     "data": {
      "text/plain": [
       "event_action\n",
       "NaN                                 1809636\n",
       "sub_car_claim_click                   31709\n",
       "sub_open_dialog_click                 19843\n",
       "sub_submit_success                    15888\n",
       "sub_car_claim_submit_click            11070\n",
       "sub_call_number_click                  3304\n",
       "sub_callback_submit_click              2647\n",
       "sub_car_request_submit_click           2374\n",
       "sub_custom_question_submit_click        534\n",
       "Name: count, dtype: int64"
      ]
     },
     "execution_count": 129,
     "metadata": {},
     "output_type": "execute_result"
    }
   ],
   "source": [
    "#view values from target column\n",
    "df.event_action.value_counts(dropna=False)"
   ]
  },
  {
   "cell_type": "code",
   "execution_count": 130,
   "metadata": {
    "colab": {
     "base_uri": "https://localhost:8080/",
     "height": 226
    },
    "id": "wflAZFqlNk5C",
    "outputId": "8ee89684-bf9f-4f68-b6b6-7cb86ad55512"
   },
   "outputs": [
    {
     "data": {
      "text/html": [
       "<div>\n",
       "<style scoped>\n",
       "    .dataframe tbody tr th:only-of-type {\n",
       "        vertical-align: middle;\n",
       "    }\n",
       "\n",
       "    .dataframe tbody tr th {\n",
       "        vertical-align: top;\n",
       "    }\n",
       "\n",
       "    .dataframe thead th {\n",
       "        text-align: right;\n",
       "    }\n",
       "</style>\n",
       "<table border=\"1\" class=\"dataframe\">\n",
       "  <thead>\n",
       "    <tr style=\"text-align: right;\">\n",
       "      <th></th>\n",
       "      <th>session_id</th>\n",
       "      <th>client_id</th>\n",
       "      <th>visit_date</th>\n",
       "      <th>visit_time</th>\n",
       "      <th>visit_number</th>\n",
       "      <th>utm_source</th>\n",
       "      <th>utm_medium</th>\n",
       "      <th>utm_campaign</th>\n",
       "      <th>utm_adcontent</th>\n",
       "      <th>utm_keyword</th>\n",
       "      <th>device_category</th>\n",
       "      <th>device_os</th>\n",
       "      <th>device_brand</th>\n",
       "      <th>device_screen_resolution</th>\n",
       "      <th>device_browser</th>\n",
       "      <th>geo_country</th>\n",
       "      <th>geo_city</th>\n",
       "      <th>event_action</th>\n",
       "    </tr>\n",
       "  </thead>\n",
       "  <tbody>\n",
       "    <tr>\n",
       "      <th>374271</th>\n",
       "      <td>2398024828768194148.1632351326.1632351326</td>\n",
       "      <td>558333664.1632341</td>\n",
       "      <td>2021-09-23</td>\n",
       "      <td>01:00:00</td>\n",
       "      <td>2.0</td>\n",
       "      <td>RmEBuqrriAfAVsLQQmhk</td>\n",
       "      <td>cpc</td>\n",
       "      <td>VBmazutCflYumtDHrQYe</td>\n",
       "      <td>JNHcPlZPxEMWDnRiyoBf</td>\n",
       "      <td>NaN</td>\n",
       "      <td>mobile</td>\n",
       "      <td>NaN</td>\n",
       "      <td>Oukitel</td>\n",
       "      <td>360x640</td>\n",
       "      <td>Opera</td>\n",
       "      <td>Russia</td>\n",
       "      <td>Moscow</td>\n",
       "      <td>0</td>\n",
       "    </tr>\n",
       "    <tr>\n",
       "      <th>981503</th>\n",
       "      <td>5053449506974455079.1637209387.1637209387</td>\n",
       "      <td>1176597901.163721</td>\n",
       "      <td>2021-11-18</td>\n",
       "      <td>07:23:07</td>\n",
       "      <td>1.0</td>\n",
       "      <td>ZpYIoDJMcFzVoPFsHGJL</td>\n",
       "      <td>banner</td>\n",
       "      <td>LEoPHuyFvzoNfnzGgfcd</td>\n",
       "      <td>JNHcPlZPxEMWDnRiyoBf</td>\n",
       "      <td>puhZPIYqKXeFPaUviSjo</td>\n",
       "      <td>mobile</td>\n",
       "      <td>Android</td>\n",
       "      <td>Samsung</td>\n",
       "      <td>412x892</td>\n",
       "      <td>Chrome</td>\n",
       "      <td>Russia</td>\n",
       "      <td>Norilsk</td>\n",
       "      <td>0</td>\n",
       "    </tr>\n",
       "    <tr>\n",
       "      <th>1461004</th>\n",
       "      <td>7153038789238148286.1629572287.1629572287</td>\n",
       "      <td>1665446625.162957</td>\n",
       "      <td>2021-08-21</td>\n",
       "      <td>21:00:00</td>\n",
       "      <td>1.0</td>\n",
       "      <td>fDLlAcSmythWSCVMvqvL</td>\n",
       "      <td>(none)</td>\n",
       "      <td>LTuZkdKfxRGVceoWkVyg</td>\n",
       "      <td>JNHcPlZPxEMWDnRiyoBf</td>\n",
       "      <td>NaN</td>\n",
       "      <td>mobile</td>\n",
       "      <td>NaN</td>\n",
       "      <td>Google</td>\n",
       "      <td>393x851</td>\n",
       "      <td>Chrome</td>\n",
       "      <td>Russia</td>\n",
       "      <td>Moscow</td>\n",
       "      <td>0</td>\n",
       "    </tr>\n",
       "    <tr>\n",
       "      <th>900696</th>\n",
       "      <td>4701409677879574455.1637384118.1637384118</td>\n",
       "      <td>1094632241.163738</td>\n",
       "      <td>2021-11-20</td>\n",
       "      <td>07:55:18</td>\n",
       "      <td>1.0</td>\n",
       "      <td>ZpYIoDJMcFzVoPFsHGJL</td>\n",
       "      <td>smartbanner</td>\n",
       "      <td>jqlUOdZBNZYfInQVcZlS</td>\n",
       "      <td>qhEmhjPXvwgEHdBikgEQ</td>\n",
       "      <td>puhZPIYqKXeFPaUviSjo</td>\n",
       "      <td>mobile</td>\n",
       "      <td>iOS</td>\n",
       "      <td>Apple</td>\n",
       "      <td>390x844</td>\n",
       "      <td>Safari</td>\n",
       "      <td>Russia</td>\n",
       "      <td>Moscow</td>\n",
       "      <td>0</td>\n",
       "    </tr>\n",
       "    <tr>\n",
       "      <th>1149761</th>\n",
       "      <td>578865935614350292.1625206849.1625206849</td>\n",
       "      <td>134777728.162517</td>\n",
       "      <td>2021-07-02</td>\n",
       "      <td>09:00:00</td>\n",
       "      <td>2.0</td>\n",
       "      <td>fDLlAcSmythWSCVMvqvL</td>\n",
       "      <td>(none)</td>\n",
       "      <td>LTuZkdKfxRGVceoWkVyg</td>\n",
       "      <td>JNHcPlZPxEMWDnRiyoBf</td>\n",
       "      <td>NaN</td>\n",
       "      <td>mobile</td>\n",
       "      <td>NaN</td>\n",
       "      <td>Apple</td>\n",
       "      <td>414x896</td>\n",
       "      <td>Safari</td>\n",
       "      <td>Russia</td>\n",
       "      <td>Saint Petersburg</td>\n",
       "      <td>0</td>\n",
       "    </tr>\n",
       "  </tbody>\n",
       "</table>\n",
       "</div>"
      ],
      "text/plain": [
       "                                        session_id          client_id  \\\n",
       "374271   2398024828768194148.1632351326.1632351326  558333664.1632341   \n",
       "981503   5053449506974455079.1637209387.1637209387  1176597901.163721   \n",
       "1461004  7153038789238148286.1629572287.1629572287  1665446625.162957   \n",
       "900696   4701409677879574455.1637384118.1637384118  1094632241.163738   \n",
       "1149761   578865935614350292.1625206849.1625206849   134777728.162517   \n",
       "\n",
       "         visit_date visit_time  visit_number            utm_source  \\\n",
       "374271   2021-09-23   01:00:00           2.0  RmEBuqrriAfAVsLQQmhk   \n",
       "981503   2021-11-18   07:23:07           1.0  ZpYIoDJMcFzVoPFsHGJL   \n",
       "1461004  2021-08-21   21:00:00           1.0  fDLlAcSmythWSCVMvqvL   \n",
       "900696   2021-11-20   07:55:18           1.0  ZpYIoDJMcFzVoPFsHGJL   \n",
       "1149761  2021-07-02   09:00:00           2.0  fDLlAcSmythWSCVMvqvL   \n",
       "\n",
       "          utm_medium          utm_campaign         utm_adcontent  \\\n",
       "374271           cpc  VBmazutCflYumtDHrQYe  JNHcPlZPxEMWDnRiyoBf   \n",
       "981503        banner  LEoPHuyFvzoNfnzGgfcd  JNHcPlZPxEMWDnRiyoBf   \n",
       "1461004       (none)  LTuZkdKfxRGVceoWkVyg  JNHcPlZPxEMWDnRiyoBf   \n",
       "900696   smartbanner  jqlUOdZBNZYfInQVcZlS  qhEmhjPXvwgEHdBikgEQ   \n",
       "1149761       (none)  LTuZkdKfxRGVceoWkVyg  JNHcPlZPxEMWDnRiyoBf   \n",
       "\n",
       "                  utm_keyword device_category device_os device_brand  \\\n",
       "374271                    NaN          mobile       NaN      Oukitel   \n",
       "981503   puhZPIYqKXeFPaUviSjo          mobile   Android      Samsung   \n",
       "1461004                   NaN          mobile       NaN       Google   \n",
       "900696   puhZPIYqKXeFPaUviSjo          mobile       iOS        Apple   \n",
       "1149761                   NaN          mobile       NaN        Apple   \n",
       "\n",
       "        device_screen_resolution device_browser geo_country          geo_city  \\\n",
       "374271                   360x640          Opera      Russia            Moscow   \n",
       "981503                   412x892         Chrome      Russia           Norilsk   \n",
       "1461004                  393x851         Chrome      Russia            Moscow   \n",
       "900696                   390x844         Safari      Russia            Moscow   \n",
       "1149761                  414x896         Safari      Russia  Saint Petersburg   \n",
       "\n",
       "         event_action  \n",
       "374271              0  \n",
       "981503              0  \n",
       "1461004             0  \n",
       "900696              0  \n",
       "1149761             0  "
      ]
     },
     "execution_count": 130,
     "metadata": {},
     "output_type": "execute_result"
    }
   ],
   "source": [
    "#Replace Nan to 0, target events to 1\n",
    "df.event_action = df.event_action.apply(lambda x: 0 if x is np.nan else 1)\n",
    "df.sample(5)"
   ]
  },
  {
   "cell_type": "code",
   "execution_count": 131,
   "metadata": {
    "colab": {
     "base_uri": "https://localhost:8080/"
    },
    "id": "qJedQRY_OLvp",
    "outputId": "7207d972-0bb7-4572-a995-145dcd16b064"
   },
   "outputs": [
    {
     "data": {
      "text/plain": [
       "event_action\n",
       "0    1809636\n",
       "1      87369\n",
       "Name: count, dtype: int64"
      ]
     },
     "execution_count": 131,
     "metadata": {},
     "output_type": "execute_result"
    }
   ],
   "source": [
    "#See result\n",
    "df.event_action.value_counts(dropna=False)"
   ]
  },
  {
   "cell_type": "markdown",
   "metadata": {
    "id": "SFzhth86AKyM"
   },
   "source": [
    "##### step 2"
   ]
  },
  {
   "cell_type": "code",
   "execution_count": 152,
   "metadata": {
    "colab": {
     "base_uri": "https://localhost:8080/"
    },
    "id": "SGcp3wp-Pigt",
    "outputId": "021fbe15-d0bb-4962-b788-812296e5430c"
   },
   "outputs": [
    {
     "name": "stdout",
     "output_type": "stream",
     "text": [
      "(1897005, 18)\n"
     ]
    },
    {
     "data": {
      "text/plain": [
       "utm_keyword                 58.29\n",
       "device_os                   57.66\n",
       "device_brand                19.78\n",
       "utm_adcontent               18.10\n",
       "utm_campaign                11.92\n",
       "device_category              0.00\n",
       "geo_city                     0.00\n",
       "geo_country                  0.00\n",
       "device_browser               0.00\n",
       "device_screen_resolution     0.00\n",
       "session_id                   0.00\n",
       "client_id                    0.00\n",
       "utm_medium                   0.00\n",
       "utm_source                   0.00\n",
       "visit_number                 0.00\n",
       "visit_time                   0.00\n",
       "visit_date                   0.00\n",
       "event_action                 0.00\n",
       "dtype: float64"
      ]
     },
     "execution_count": 152,
     "metadata": {},
     "output_type": "execute_result"
    }
   ],
   "source": [
    "df = df_copy.copy()\n",
    "#view missing_values in other columns\n",
    "print(df.shape)\n",
    "missing_values(df)"
   ]
  },
  {
   "cell_type": "markdown",
   "metadata": {
    "id": "BQEz2w1WX8JH"
   },
   "source": [
    "##### utm_campaign"
   ]
  },
  {
   "cell_type": "code",
   "execution_count": 153,
   "metadata": {
    "colab": {
     "base_uri": "https://localhost:8080/"
    },
    "id": "NJbyc2PuP5jw",
    "outputId": "39d710a6-56cb-4a8b-ea30-50b213475599"
   },
   "outputs": [
    {
     "data": {
      "text/plain": [
       "utm_campaign\n",
       "LTuZkdKfxRGVceoWkVyg    25.11\n",
       "LEoPHuyFvzoNfnzGgfcd    17.46\n",
       "FTjNLDyTrXaWYgZymFkV    13.06\n",
       "NaN                     11.92\n",
       "gecBYcKZCPMcVYdSSzKP     7.27\n",
       "                        ...  \n",
       "cqgnjDbqrtCipVvzhxqa     0.00\n",
       "AdtHYglxfCpTpwZeTAuW     0.00\n",
       "pcvPxfVFaAmhwFmvIeYd     0.00\n",
       "qPDTdivQVeflLjTYIJnG     0.00\n",
       "cXxuwXPoQCvAXPHpFcZl     0.00\n",
       "Name: proportion, Length: 413, dtype: float64"
      ]
     },
     "execution_count": 153,
     "metadata": {},
     "output_type": "execute_result"
    }
   ],
   "source": [
    "df.utm_campaign.value_counts(normalize=True, dropna=False).mul(100).round(2)"
   ]
  },
  {
   "cell_type": "code",
   "execution_count": 154,
   "metadata": {
    "colab": {
     "base_uri": "https://localhost:8080/"
    },
    "id": "vlotuvvZR3HK",
    "outputId": "e60b4368-996c-407d-97bd-ea86c3f4a7b7"
   },
   "outputs": [
    {
     "data": {
      "text/plain": [
       "412"
      ]
     },
     "execution_count": 154,
     "metadata": {},
     "output_type": "execute_result"
    }
   ],
   "source": [
    "df.utm_campaign.nunique()"
   ]
  },
  {
   "cell_type": "code",
   "execution_count": 155,
   "metadata": {
    "colab": {
     "base_uri": "https://localhost:8080/",
     "height": 648
    },
    "id": "1TMu5vC6SGVN",
    "outputId": "4936f28a-f350-4276-84b8-cc6c41c3e2ae"
   },
   "outputs": [
    {
     "data": {
      "text/plain": [
       "<Axes: xlabel='utm_campaign', ylabel='Count'>"
      ]
     },
     "execution_count": 155,
     "metadata": {},
     "output_type": "execute_result"
    },
    {
     "data": {
      "image/png": "[encoded data removed]",
      "text/plain": [
       "<Figure size 640x480 with 1 Axes>"
      ]
     },
     "metadata": {},
     "output_type": "display_data"
    }
   ],
   "source": [
    "df['utm_campaign'].value_counts(dropna=False).head(20).plot(kind='bar', xlabel='utm_campaign', ylabel='Count', rot=90)"
   ]
  },
  {
   "cell_type": "code",
   "execution_count": 156,
   "metadata": {
    "colab": {
     "base_uri": "https://localhost:8080/"
    },
    "id": "JKL4FlRmA492",
    "outputId": "b42e6d48-e647-4cde-e04f-00c24c713e71"
   },
   "outputs": [
    {
     "data": {
      "text/plain": [
       "utm_campaign\n",
       "LTuZkdKfxRGVceoWkVyg    476407\n",
       "LEoPHuyFvzoNfnzGgfcd    331162\n",
       "FTjNLDyTrXaWYgZymFkV    247825\n",
       "gecBYcKZCPMcVYdSSzKP    137928\n",
       "TmThBvoCcwkCZZUWACYq     26697\n",
       "XHNUiSKKGTEpSAlaVMFQ     24883\n",
       "okTXSMadDkjvntEHzIjp     24549\n",
       "SgIUDYUKnyWHVowUOqid     23180\n",
       "sbJRYgVfvcnqKJNDDYIr     20752\n",
       "LwJZxKuWmvOhPsaCeRjG     17839\n",
       "RoDitORHdzGfGhNCyEMy     15856\n",
       "bxOTvPtyGSdUrbwoXCPO     15504\n",
       "zxoiLxhuSIFrCeTLQVWZ     12578\n",
       "bJJuEXRheRIxXEaYIXqM     12353\n",
       "YCKgTzTDywjcWyQudGch     12227\n",
       "nSReTmyFtbSjlPrTKoaX     11778\n",
       "QEejXfOCtOMFLZqIPApp     10209\n",
       "vRLTQQKAsFQMxbcHGPhu      9517\n",
       "jvsVVQVKRfBIqBDBuCkq      8033\n",
       "eimRuUrNhZLAYcwRrNXu      7937\n",
       "Name: count, dtype: int64"
      ]
     },
     "execution_count": 156,
     "metadata": {},
     "output_type": "execute_result"
    }
   ],
   "source": [
    "#Top 20 value_counts from utm_campaign\n",
    "df.utm_campaign.value_counts().head(20)"
   ]
  },
  {
   "cell_type": "code",
   "execution_count": 157,
   "metadata": {
    "id": "9o1LTy2gA5BD"
   },
   "outputs": [],
   "source": [
    "# I have no idea. Fill \"other\"\n",
    "df.utm_campaign.fillna('other', inplace = True)"
   ]
  },
  {
   "cell_type": "code",
   "execution_count": 158,
   "metadata": {
    "colab": {
     "base_uri": "https://localhost:8080/"
    },
    "id": "oHDnspi1A5Xk",
    "outputId": "121f3bc4-377f-4dd0-bf7c-cb2e35e0b3f2"
   },
   "outputs": [
    {
     "data": {
      "text/plain": [
       "['LTuZkdKfxRGVceoWkVyg',\n",
       " 'LEoPHuyFvzoNfnzGgfcd',\n",
       " 'FTjNLDyTrXaWYgZymFkV',\n",
       " 'other',\n",
       " 'gecBYcKZCPMcVYdSSzKP',\n",
       " 'TmThBvoCcwkCZZUWACYq',\n",
       " 'XHNUiSKKGTEpSAlaVMFQ',\n",
       " 'okTXSMadDkjvntEHzIjp',\n",
       " 'SgIUDYUKnyWHVowUOqid',\n",
       " 'sbJRYgVfvcnqKJNDDYIr',\n",
       " 'LwJZxKuWmvOhPsaCeRjG',\n",
       " 'RoDitORHdzGfGhNCyEMy',\n",
       " 'bxOTvPtyGSdUrbwoXCPO',\n",
       " 'zxoiLxhuSIFrCeTLQVWZ',\n",
       " 'bJJuEXRheRIxXEaYIXqM',\n",
       " 'YCKgTzTDywjcWyQudGch',\n",
       " 'nSReTmyFtbSjlPrTKoaX',\n",
       " 'QEejXfOCtOMFLZqIPApp',\n",
       " 'vRLTQQKAsFQMxbcHGPhu',\n",
       " 'jvsVVQVKRfBIqBDBuCkq']"
      ]
     },
     "execution_count": 158,
     "metadata": {},
     "output_type": "execute_result"
    }
   ],
   "source": [
    "#view top 20\n",
    "df.utm_campaign.value_counts(normalize=True, dropna=False).mul(100).round(1).head(20).index.tolist()"
   ]
  },
  {
   "cell_type": "code",
   "execution_count": 159,
   "metadata": {
    "id": "ZaEaFSl_BhWk"
   },
   "outputs": [],
   "source": [
    "# Creating list top 20\n",
    "columns_utm_campaign_for_save = ['LTuZkdKfxRGVceoWkVyg',\n",
    " 'LEoPHuyFvzoNfnzGgfcd',\n",
    " 'FTjNLDyTrXaWYgZymFkV',\n",
    " 'other',\n",
    " 'gecBYcKZCPMcVYdSSzKP',\n",
    " 'TmThBvoCcwkCZZUWACYq',\n",
    " 'XHNUiSKKGTEpSAlaVMFQ',\n",
    " 'okTXSMadDkjvntEHzIjp',\n",
    " 'SgIUDYUKnyWHVowUOqid',\n",
    " 'sbJRYgVfvcnqKJNDDYIr',\n",
    " 'LwJZxKuWmvOhPsaCeRjG',\n",
    " 'RoDitORHdzGfGhNCyEMy',\n",
    " 'bxOTvPtyGSdUrbwoXCPO',\n",
    " 'zxoiLxhuSIFrCeTLQVWZ',\n",
    " 'bJJuEXRheRIxXEaYIXqM',\n",
    " 'YCKgTzTDywjcWyQudGch',\n",
    " 'nSReTmyFtbSjlPrTKoaX',\n",
    " 'QEejXfOCtOMFLZqIPApp',\n",
    " 'vRLTQQKAsFQMxbcHGPhu',\n",
    " 'jvsVVQVKRfBIqBDBuCkq']"
   ]
  },
  {
   "cell_type": "code",
   "execution_count": 160,
   "metadata": {
    "id": "uC7UQPDhBhbt"
   },
   "outputs": [],
   "source": [
    "# Replace value not include top 20 to 'other'\n",
    "df.utm_campaign = df.utm_campaign.apply(lambda x: x if x in columns_utm_campaign_for_save else 'other1')"
   ]
  },
  {
   "cell_type": "markdown",
   "metadata": {
    "id": "4fMB_vWeYAu_"
   },
   "source": [
    "##### utm_keyword"
   ]
  },
  {
   "cell_type": "code",
   "execution_count": 161,
   "metadata": {
    "colab": {
     "base_uri": "https://localhost:8080/"
    },
    "id": "UBa0pX0TSO42",
    "outputId": "2581d5ce-86bf-4a5e-92cb-61aa7cefb8d5"
   },
   "outputs": [
    {
     "data": {
      "text/plain": [
       "utm_keyword\n",
       "NaN                     58.29\n",
       "puhZPIYqKXeFPaUviSjo    27.22\n",
       "aXQzDWsJuGXeBXexNHjc     1.28\n",
       "pHqgLcdBQPSLcrTpLkdr     0.73\n",
       "ITfrGJNwVsHBGJMAKoct     0.72\n",
       "                        ...  \n",
       "uucOIlRysdLPcqDPWItw     0.00\n",
       "SVgtRXtJAnTJGHMmQaSp     0.00\n",
       "lGmMXrMkjZsdbfpkENcb     0.00\n",
       "eEEwicXmITPUhtBeyybE     0.00\n",
       "fcXWTQaKfxbkBkBnzLhK     0.00\n",
       "Name: proportion, Length: 1220, dtype: float64"
      ]
     },
     "execution_count": 161,
     "metadata": {},
     "output_type": "execute_result"
    }
   ],
   "source": [
    "df.utm_keyword.value_counts(normalize=True, dropna=False).mul(100).round(2)"
   ]
  },
  {
   "cell_type": "code",
   "execution_count": 167,
   "metadata": {
    "colab": {
     "base_uri": "https://localhost:8080/",
     "height": 653
    },
    "id": "n6o1mnryYS0h",
    "outputId": "e0781b76-84d9-42c3-cfe7-0d078ab0aadc"
   },
   "outputs": [
    {
     "data": {
      "text/plain": [
       "<Axes: xlabel='utm_campaign', ylabel='Count'>"
      ]
     },
     "execution_count": 167,
     "metadata": {},
     "output_type": "execute_result"
    },
    {
     "data": {
      "image/png": "[encoded data removed]",
      "text/plain": [
       "<Figure size 640x480 with 1 Axes>"
      ]
     },
     "metadata": {},
     "output_type": "display_data"
    }
   ],
   "source": [
    "df['utm_keyword'].value_counts(dropna=False).head(15).plot(kind='bar', xlabel='utm_campaign', ylabel='Count', rot=90)"
   ]
  },
  {
   "cell_type": "code",
   "execution_count": 163,
   "metadata": {
    "id": "bzODny4oYaJ-"
   },
   "outputs": [],
   "source": [
    "#replace Nan most freq values\n",
    "df.utm_keyword.fillna('puhZPIYqKXeFPaUviSjo', inplace = True)"
   ]
  },
  {
   "cell_type": "code",
   "execution_count": 164,
   "metadata": {
    "colab": {
     "base_uri": "https://localhost:8080/"
    },
    "id": "-PYtn3p-VCeL",
    "outputId": "507f2056-b863-49a2-8bb6-34de7ae45712"
   },
   "outputs": [
    {
     "data": {
      "text/plain": [
       "['puhZPIYqKXeFPaUviSjo',\n",
       " 'aXQzDWsJuGXeBXexNHjc',\n",
       " 'pHqgLcdBQPSLcrTpLkdr',\n",
       " 'ITfrGJNwVsHBGJMAKoct',\n",
       " 'hAmNSZmQkKQKAjZEGlgb',\n",
       " 'UKNBOHebRIIsQRsjNKay',\n",
       " 'IGUCNvHlhfHpROGclCit',\n",
       " 'RkpOyeEPgcMBSDuHLQcj',\n",
       " 'JajANoFxoqXfKRNBUhzx',\n",
       " 'BmOOOIoWGHEfxEfoUezs']"
      ]
     },
     "execution_count": 164,
     "metadata": {},
     "output_type": "execute_result"
    }
   ],
   "source": [
    "df.utm_keyword.value_counts(normalize=True, dropna=False).mul(100).round(1).head(10).index.tolist()"
   ]
  },
  {
   "cell_type": "code",
   "execution_count": 165,
   "metadata": {
    "id": "uIC8jTObVCeL"
   },
   "outputs": [],
   "source": [
    "columns_utm_keyword_for_save = ['puhZPIYqKXeFPaUviSjo',\n",
    " 'aXQzDWsJuGXeBXexNHjc',\n",
    " 'pHqgLcdBQPSLcrTpLkdr',\n",
    " 'ITfrGJNwVsHBGJMAKoct',\n",
    " 'hAmNSZmQkKQKAjZEGlgb',\n",
    " 'UKNBOHebRIIsQRsjNKay',\n",
    " 'IGUCNvHlhfHpROGclCit',\n",
    " 'RkpOyeEPgcMBSDuHLQcj',\n",
    " 'JajANoFxoqXfKRNBUhzx',\n",
    " 'BmOOOIoWGHEfxEfoUezs']"
   ]
  },
  {
   "cell_type": "code",
   "execution_count": 166,
   "metadata": {
    "id": "CROU37JUVCeM"
   },
   "outputs": [],
   "source": [
    "df.utm_keyword = df.utm_keyword.apply(lambda x: x if x in columns_utm_keyword_for_save else 'other1')"
   ]
  },
  {
   "cell_type": "code",
   "execution_count": 151,
   "metadata": {
    "colab": {
     "base_uri": "https://localhost:8080/"
    },
    "id": "46G_rrdQZR2s",
    "outputId": "ab57c475-c349-4cdd-91a5-ce40bc392139"
   },
   "outputs": [
    {
     "data": {
      "text/plain": [
       "device_os                   57.66\n",
       "device_brand                19.78\n",
       "utm_adcontent               18.10\n",
       "session_id                   0.00\n",
       "device_category              0.00\n",
       "geo_city                     0.00\n",
       "geo_country                  0.00\n",
       "device_browser               0.00\n",
       "device_screen_resolution     0.00\n",
       "utm_keyword                  0.00\n",
       "client_id                    0.00\n",
       "utm_campaign                 0.00\n",
       "utm_medium                   0.00\n",
       "utm_source                   0.00\n",
       "visit_number                 0.00\n",
       "visit_time                   0.00\n",
       "visit_date                   0.00\n",
       "event_action                 0.00\n",
       "dtype: float64"
      ]
     },
     "execution_count": 151,
     "metadata": {},
     "output_type": "execute_result"
    }
   ],
   "source": [
    "missing_values(df)"
   ]
  },
  {
   "cell_type": "markdown",
   "metadata": {
    "id": "AWjK01tWa6h-"
   },
   "source": [
    "##### device_brand & device_os\n"
   ]
  },
  {
   "cell_type": "code",
   "execution_count": 168,
   "metadata": {
    "colab": {
     "base_uri": "https://localhost:8080/"
    },
    "id": "7A0DCUUfZdo0",
    "outputId": "6c88b51c-21a8-4124-89a0-6a835090a908"
   },
   "outputs": [
    {
     "data": {
      "text/plain": [
       "device_brand\n",
       "Apple       29.66\n",
       "NaN         19.78\n",
       "Samsung     17.90\n",
       "Xiaomi      15.45\n",
       "Huawei       9.96\n",
       "            ...  \n",
       "Cube         0.00\n",
       "Wexler       0.00\n",
       "Smarteo      0.00\n",
       "KingSing     0.00\n",
       "Opera        0.00\n",
       "Name: proportion, Length: 206, dtype: float64"
      ]
     },
     "execution_count": 168,
     "metadata": {},
     "output_type": "execute_result"
    }
   ],
   "source": [
    "df.device_brand.value_counts(normalize=True, dropna=False).mul(100).round(2)"
   ]
  },
  {
   "cell_type": "code",
   "execution_count": 169,
   "metadata": {
    "colab": {
     "base_uri": "https://localhost:8080/",
     "height": 522
    },
    "id": "JGXrH4c_Q0AZ",
    "outputId": "1d62bea4-4372-4049-cfa0-e0995b334881"
   },
   "outputs": [
    {
     "data": {
      "text/plain": [
       "<Axes: xlabel='device_brand', ylabel='Count'>"
      ]
     },
     "execution_count": 169,
     "metadata": {},
     "output_type": "execute_result"
    },
    {
     "data": {
      "image/png": "[encoded data removed]",
      "text/plain": [
       "<Figure size 640x480 with 1 Axes>"
      ]
     },
     "metadata": {},
     "output_type": "display_data"
    }
   ],
   "source": [
    "df['device_brand'].value_counts(dropna=False).head(20).plot(kind='bar', xlabel='device_brand', ylabel='Count', rot=90)"
   ]
  },
  {
   "cell_type": "code",
   "execution_count": 170,
   "metadata": {
    "colab": {
     "base_uri": "https://localhost:8080/"
    },
    "id": "xib8FFTZbAsN",
    "outputId": "3d66f3b3-04e5-4707-8f12-7934c588d4a4"
   },
   "outputs": [
    {
     "data": {
      "text/plain": [
       "205"
      ]
     },
     "execution_count": 170,
     "metadata": {},
     "output_type": "execute_result"
    }
   ],
   "source": [
    "df.device_brand.nunique()"
   ]
  },
  {
   "cell_type": "code",
   "execution_count": 172,
   "metadata": {
    "colab": {
     "base_uri": "https://localhost:8080/"
    },
    "id": "nhlZirZ0bHJk",
    "outputId": "b0293132-ee9b-4247-ca6e-70320782265a"
   },
   "outputs": [
    {
     "data": {
      "text/plain": [
       "device_os\n",
       "NaN              57.66\n",
       "Android          24.85\n",
       "iOS              11.12\n",
       "Windows           4.72\n",
       "Macintosh         1.35\n",
       "Linux             0.27\n",
       "(not set)         0.02\n",
       "Chrome OS         0.00\n",
       "BlackBerry        0.00\n",
       "Tizen             0.00\n",
       "Samsung           0.00\n",
       "Windows Phone     0.00\n",
       "Firefox OS        0.00\n",
       "Nokia             0.00\n",
       "Name: proportion, dtype: float64"
      ]
     },
     "execution_count": 172,
     "metadata": {},
     "output_type": "execute_result"
    }
   ],
   "source": [
    "df.device_os.value_counts(normalize=True, dropna=False).mul(100).round(2)"
   ]
  },
  {
   "cell_type": "code",
   "execution_count": 173,
   "metadata": {
    "colab": {
     "base_uri": "https://localhost:8080/",
     "height": 577
    },
    "id": "HlD7eKViQ5wy",
    "outputId": "b1858d3e-d86a-439f-8dc8-b140a9340b49"
   },
   "outputs": [
    {
     "data": {
      "text/plain": [
       "<Axes: xlabel='device_os', ylabel='Count'>"
      ]
     },
     "execution_count": 173,
     "metadata": {},
     "output_type": "execute_result"
    },
    {
     "data": {
      "image/png": "[encoded data removed]",
      "text/plain": [
       "<Figure size 640x480 with 1 Axes>"
      ]
     },
     "metadata": {},
     "output_type": "display_data"
    }
   ],
   "source": [
    "df['device_os'].value_counts(dropna=False).plot(kind='bar', xlabel='device_os', ylabel='Count', rot=90)"
   ]
  },
  {
   "cell_type": "code",
   "execution_count": 174,
   "metadata": {
    "colab": {
     "base_uri": "https://localhost:8080/"
    },
    "id": "NBEoqwF8bS2K",
    "outputId": "462cd373-a517-4a9b-d77f-6a6f9f7f935a"
   },
   "outputs": [
    {
     "data": {
      "text/plain": [
       "13"
      ]
     },
     "execution_count": 174,
     "metadata": {},
     "output_type": "execute_result"
    }
   ],
   "source": [
    "df.device_os.nunique()"
   ]
  },
  {
   "cell_type": "code",
   "execution_count": 175,
   "metadata": {
    "colab": {
     "base_uri": "https://localhost:8080/"
    },
    "id": "clS1EqGNowIa",
    "outputId": "037cf1b2-4a94-4394-d3fb-b0bd04d838d3"
   },
   "outputs": [
    {
     "data": {
      "text/plain": [
       "device_os\n",
       "NaN    351743\n",
       "iOS    210865\n",
       "Name: count, dtype: int64"
      ]
     },
     "execution_count": 175,
     "metadata": {},
     "output_type": "execute_result"
    }
   ],
   "source": [
    "#Apple\n",
    "df.loc[(df.device_brand == 'Apple')].device_os.value_counts(dropna=False)"
   ]
  },
  {
   "cell_type": "code",
   "execution_count": 176,
   "metadata": {
    "id": "CqfDLkUYr7YL"
   },
   "outputs": [],
   "source": [
    "#Fill Na in device_os the Apple brand\n",
    "df['device_os'] = df['device_os'].mask((df.device_brand == 'Apple'), 'iOS')"
   ]
  },
  {
   "cell_type": "code",
   "execution_count": 177,
   "metadata": {
    "colab": {
     "base_uri": "https://localhost:8080/"
    },
    "id": "2Ezw4H9fl4q2",
    "outputId": "36f187b9-9da5-4303-ac4b-00389d321500"
   },
   "outputs": [
    {
     "data": {
      "text/plain": [
       "device_brand\n",
       "Apple        562608\n",
       "(not set)         6\n",
       "Name: count, dtype: int64"
      ]
     },
     "execution_count": 177,
     "metadata": {},
     "output_type": "execute_result"
    }
   ],
   "source": [
    "#View devises with 'iOS' operating system. In result - only Apple\n",
    "df.loc[(df.device_os == 'iOS')].device_brand.value_counts(dropna=False)"
   ]
  },
  {
   "cell_type": "code",
   "execution_count": 179,
   "metadata": {
    "id": "1c8k85KDu3TI"
   },
   "outputs": [],
   "source": [
    "# replace to Apple from iOS system\n",
    "df['device_brand'] = df['device_brand'].mask((df.device_os == 'iOS'), 'Apple')"
   ]
  },
  {
   "cell_type": "code",
   "execution_count": 180,
   "metadata": {
    "colab": {
     "base_uri": "https://localhost:8080/"
    },
    "id": "Fs_ceySBveEO",
    "outputId": "6b901395-184f-43fc-85f0-e00e105eeee1"
   },
   "outputs": [
    {
     "data": {
      "text/plain": [
       "device_os\n",
       "NaN        170780\n",
       "Android    168824\n",
       "Samsung         4\n",
       "Name: count, dtype: int64"
      ]
     },
     "execution_count": 180,
     "metadata": {},
     "output_type": "execute_result"
    }
   ],
   "source": [
    "#View Samsung os\n",
    "df.loc[(df.device_brand == 'Samsung')].device_os.value_counts(dropna=False)"
   ]
  },
  {
   "cell_type": "code",
   "execution_count": 181,
   "metadata": {
    "id": "a1damD6xirRA"
   },
   "outputs": [],
   "source": [
    "#Fill Na in device_os the Samsung brand\n",
    "df['device_os'] = df['device_os'].mask((df.device_brand == 'Samsung'), 'Android')"
   ]
  },
  {
   "cell_type": "code",
   "execution_count": 182,
   "metadata": {
    "colab": {
     "base_uri": "https://localhost:8080/"
    },
    "id": "ZL3FUACCn_l7",
    "outputId": "f27c34a2-7150-499a-e556-df7adc24a841"
   },
   "outputs": [
    {
     "data": {
      "text/plain": [
       "device_os\n",
       "NaN        149794\n",
       "Android    143213\n",
       "Name: count, dtype: int64"
      ]
     },
     "execution_count": 182,
     "metadata": {},
     "output_type": "execute_result"
    }
   ],
   "source": [
    "#Xiaomi\n",
    "df.loc[(df.device_brand == 'Xiaomi')].device_os.value_counts(dropna=False)"
   ]
  },
  {
   "cell_type": "code",
   "execution_count": 183,
   "metadata": {
    "id": "_VJhRuUfwEoH"
   },
   "outputs": [],
   "source": [
    "#Fill Na in device_os the Xiaomi brand\n",
    "df['device_os'] = df['device_os'].mask((df.device_brand == 'Xiaomi'), 'Android')"
   ]
  },
  {
   "cell_type": "code",
   "execution_count": 184,
   "metadata": {
    "colab": {
     "base_uri": "https://localhost:8080/"
    },
    "id": "rA8NO8B7wLyf",
    "outputId": "b9d755aa-a217-489b-96f9-1d3721793a2e"
   },
   "outputs": [
    {
     "data": {
      "text/plain": [
       "device_os\n",
       "NaN        98078\n",
       "Android    90882\n",
       "Name: count, dtype: int64"
      ]
     },
     "execution_count": 184,
     "metadata": {},
     "output_type": "execute_result"
    }
   ],
   "source": [
    "#Huawei\n",
    "df.loc[(df.device_brand == 'Huawei')].device_os.value_counts(dropna=False)"
   ]
  },
  {
   "cell_type": "code",
   "execution_count": 185,
   "metadata": {
    "id": "9NVY7JZFwh3n"
   },
   "outputs": [],
   "source": [
    "#Fill Na in device_os the Huawei brand\n",
    "df['device_os'] = df['device_os'].mask((df.device_brand == 'Huawei'), 'Android')"
   ]
  },
  {
   "cell_type": "code",
   "execution_count": 188,
   "metadata": {
    "colab": {
     "base_uri": "https://localhost:8080/"
    },
    "id": "Pa8bIS5awnkW",
    "outputId": "3b832c8c-ddfe-4608-b708-e2bb44f626f8"
   },
   "outputs": [
    {
     "data": {
      "text/plain": [
       "device_os\n",
       "Android       46.92\n",
       "iOS           29.66\n",
       "NaN           17.04\n",
       "Windows        4.72\n",
       "Macintosh      1.35\n",
       "Linux          0.27\n",
       "(not set)      0.02\n",
       "Chrome OS      0.00\n",
       "BlackBerry     0.00\n",
       "Tizen          0.00\n",
       "Name: proportion, dtype: float64"
      ]
     },
     "execution_count": 188,
     "metadata": {},
     "output_type": "execute_result"
    }
   ],
   "source": [
    "#see top 10 of device_os\n",
    "df.device_os.value_counts(normalize=True, dropna=False).mul(100).round(2).head(10)"
   ]
  },
  {
   "cell_type": "code",
   "execution_count": 189,
   "metadata": {
    "colab": {
     "base_uri": "https://localhost:8080/"
    },
    "id": "ucxUG8itxFL-",
    "outputId": "3e3c8ad4-2d43-40db-f98d-4a6d72e166eb"
   },
   "outputs": [
    {
     "data": {
      "text/plain": [
       "device_brand\n",
       "Apple        29.66\n",
       "NaN          19.78\n",
       "Samsung      17.90\n",
       "Xiaomi       15.45\n",
       "Huawei        9.96\n",
       "Realme        1.02\n",
       "(not set)     0.94\n",
       "OPPO          0.73\n",
       "Vivo          0.63\n",
       "OnePlus       0.53\n",
       "Name: proportion, dtype: float64"
      ]
     },
     "execution_count": 189,
     "metadata": {},
     "output_type": "execute_result"
    }
   ],
   "source": [
    "#see top 10 of device_brand\n",
    "df.device_brand.value_counts(normalize=True, dropna=False).mul(100).round(2).head(10)"
   ]
  },
  {
   "cell_type": "code",
   "execution_count": 190,
   "metadata": {
    "id": "qX0EHONlxO3H"
   },
   "outputs": [],
   "source": [
    "#так как остальные брэнды занимают меньше 10%, и скорее, всего у большинства оставшися Андроид. Заполним им.\n",
    "# Fill remains\n",
    "df['device_os'].fillna('Android', inplace=True)"
   ]
  },
  {
   "cell_type": "code",
   "execution_count": 191,
   "metadata": {
    "colab": {
     "base_uri": "https://localhost:8080/",
     "height": 461
    },
    "id": "axXG3FzCyUDU",
    "outputId": "95e32a78-1355-49a6-ba1b-ec0445b8113e"
   },
   "outputs": [
    {
     "data": {
      "text/html": [
       "<div>\n",
       "<style scoped>\n",
       "    .dataframe tbody tr th:only-of-type {\n",
       "        vertical-align: middle;\n",
       "    }\n",
       "\n",
       "    .dataframe tbody tr th {\n",
       "        vertical-align: top;\n",
       "    }\n",
       "\n",
       "    .dataframe thead th {\n",
       "        text-align: right;\n",
       "    }\n",
       "</style>\n",
       "<table border=\"1\" class=\"dataframe\">\n",
       "  <thead>\n",
       "    <tr style=\"text-align: right;\">\n",
       "      <th></th>\n",
       "      <th>session_id</th>\n",
       "      <th>client_id</th>\n",
       "      <th>visit_date</th>\n",
       "      <th>visit_time</th>\n",
       "      <th>visit_number</th>\n",
       "      <th>utm_source</th>\n",
       "      <th>utm_medium</th>\n",
       "      <th>utm_campaign</th>\n",
       "      <th>utm_adcontent</th>\n",
       "      <th>utm_keyword</th>\n",
       "      <th>device_category</th>\n",
       "      <th>device_os</th>\n",
       "      <th>device_brand</th>\n",
       "      <th>device_screen_resolution</th>\n",
       "      <th>device_browser</th>\n",
       "      <th>geo_country</th>\n",
       "      <th>geo_city</th>\n",
       "      <th>event_action</th>\n",
       "    </tr>\n",
       "  </thead>\n",
       "  <tbody>\n",
       "    <tr>\n",
       "      <th>28</th>\n",
       "      <td>9055505230298952295.1638478433.1638478433</td>\n",
       "      <td>2108399111.163848</td>\n",
       "      <td>2021-12-02</td>\n",
       "      <td>23:53:53</td>\n",
       "      <td>1.0</td>\n",
       "      <td>fDLlAcSmythWSCVMvqvL</td>\n",
       "      <td>(none)</td>\n",
       "      <td>LTuZkdKfxRGVceoWkVyg</td>\n",
       "      <td>JNHcPlZPxEMWDnRiyoBf</td>\n",
       "      <td>puhZPIYqKXeFPaUviSjo</td>\n",
       "      <td>desktop</td>\n",
       "      <td>Windows</td>\n",
       "      <td>NaN</td>\n",
       "      <td>1536x864</td>\n",
       "      <td>Chrome</td>\n",
       "      <td>Russia</td>\n",
       "      <td>Balashikha</td>\n",
       "      <td>0</td>\n",
       "    </tr>\n",
       "    <tr>\n",
       "      <th>63</th>\n",
       "      <td>9055657327967035032.1629707931.1629707931</td>\n",
       "      <td>2108434524.162971</td>\n",
       "      <td>2021-08-23</td>\n",
       "      <td>11:00:00</td>\n",
       "      <td>1.0</td>\n",
       "      <td>nSReTmyFtbSjlPrTKoaX</td>\n",
       "      <td>banner</td>\n",
       "      <td>other1</td>\n",
       "      <td>JNHcPlZPxEMWDnRiyoBf</td>\n",
       "      <td>puhZPIYqKXeFPaUviSjo</td>\n",
       "      <td>desktop</td>\n",
       "      <td>Android</td>\n",
       "      <td>NaN</td>\n",
       "      <td>1920x1080</td>\n",
       "      <td>YaBrowser</td>\n",
       "      <td>Russia</td>\n",
       "      <td>Moscow</td>\n",
       "      <td>0</td>\n",
       "    </tr>\n",
       "    <tr>\n",
       "      <th>64</th>\n",
       "      <td>905565977351442956.1622561294.1622561294</td>\n",
       "      <td>210843509.162256</td>\n",
       "      <td>2021-06-01</td>\n",
       "      <td>18:00:00</td>\n",
       "      <td>1.0</td>\n",
       "      <td>fDLlAcSmythWSCVMvqvL</td>\n",
       "      <td>(none)</td>\n",
       "      <td>LTuZkdKfxRGVceoWkVyg</td>\n",
       "      <td>JNHcPlZPxEMWDnRiyoBf</td>\n",
       "      <td>puhZPIYqKXeFPaUviSjo</td>\n",
       "      <td>desktop</td>\n",
       "      <td>Android</td>\n",
       "      <td>NaN</td>\n",
       "      <td>1920x1080</td>\n",
       "      <td>Chrome</td>\n",
       "      <td>Russia</td>\n",
       "      <td>Moscow</td>\n",
       "      <td>0</td>\n",
       "    </tr>\n",
       "    <tr>\n",
       "      <th>67</th>\n",
       "      <td>9055678214400253418.1636965866.1636965866</td>\n",
       "      <td>2108439387.163696</td>\n",
       "      <td>2021-11-15</td>\n",
       "      <td>11:44:26</td>\n",
       "      <td>1.0</td>\n",
       "      <td>fDLlAcSmythWSCVMvqvL</td>\n",
       "      <td>(none)</td>\n",
       "      <td>LTuZkdKfxRGVceoWkVyg</td>\n",
       "      <td>JNHcPlZPxEMWDnRiyoBf</td>\n",
       "      <td>puhZPIYqKXeFPaUviSjo</td>\n",
       "      <td>desktop</td>\n",
       "      <td>Windows</td>\n",
       "      <td>NaN</td>\n",
       "      <td>1920x1080</td>\n",
       "      <td>Chrome</td>\n",
       "      <td>Russia</td>\n",
       "      <td>Saint Petersburg</td>\n",
       "      <td>0</td>\n",
       "    </tr>\n",
       "    <tr>\n",
       "      <th>73</th>\n",
       "      <td>9055788191321875859.1626006934.1626006934</td>\n",
       "      <td>2108464993.162601</td>\n",
       "      <td>2021-07-11</td>\n",
       "      <td>15:00:00</td>\n",
       "      <td>1.0</td>\n",
       "      <td>fDLlAcSmythWSCVMvqvL</td>\n",
       "      <td>(none)</td>\n",
       "      <td>LTuZkdKfxRGVceoWkVyg</td>\n",
       "      <td>JNHcPlZPxEMWDnRiyoBf</td>\n",
       "      <td>puhZPIYqKXeFPaUviSjo</td>\n",
       "      <td>desktop</td>\n",
       "      <td>Android</td>\n",
       "      <td>NaN</td>\n",
       "      <td>1280x720</td>\n",
       "      <td>Chrome</td>\n",
       "      <td>Russia</td>\n",
       "      <td>Moscow</td>\n",
       "      <td>0</td>\n",
       "    </tr>\n",
       "    <tr>\n",
       "      <th>...</th>\n",
       "      <td>...</td>\n",
       "      <td>...</td>\n",
       "      <td>...</td>\n",
       "      <td>...</td>\n",
       "      <td>...</td>\n",
       "      <td>...</td>\n",
       "      <td>...</td>\n",
       "      <td>...</td>\n",
       "      <td>...</td>\n",
       "      <td>...</td>\n",
       "      <td>...</td>\n",
       "      <td>...</td>\n",
       "      <td>...</td>\n",
       "      <td>...</td>\n",
       "      <td>...</td>\n",
       "      <td>...</td>\n",
       "      <td>...</td>\n",
       "      <td>...</td>\n",
       "    </tr>\n",
       "    <tr>\n",
       "      <th>1897090</th>\n",
       "      <td>9055354507009984602.1636829278.1636829278</td>\n",
       "      <td>2108364018.163683</td>\n",
       "      <td>2021-11-13</td>\n",
       "      <td>21:47:58</td>\n",
       "      <td>1.0</td>\n",
       "      <td>vFcAhRxLfOWKhvxjELkx</td>\n",
       "      <td>organic</td>\n",
       "      <td>okTXSMadDkjvntEHzIjp</td>\n",
       "      <td>LLfCasrxQzJIyuldcuWy</td>\n",
       "      <td>aXQzDWsJuGXeBXexNHjc</td>\n",
       "      <td>desktop</td>\n",
       "      <td>Windows</td>\n",
       "      <td>NaN</td>\n",
       "      <td>1366x768</td>\n",
       "      <td>Firefox</td>\n",
       "      <td>Russia</td>\n",
       "      <td>Balashikha</td>\n",
       "      <td>0</td>\n",
       "    </tr>\n",
       "    <tr>\n",
       "      <th>1897092</th>\n",
       "      <td>9055363711117247375.1629176721.1629176721</td>\n",
       "      <td>2108366161.162918</td>\n",
       "      <td>2021-08-17</td>\n",
       "      <td>08:00:00</td>\n",
       "      <td>1.0</td>\n",
       "      <td>PlbkrSYoHuZBWfYjYnfw</td>\n",
       "      <td>cpm</td>\n",
       "      <td>FTjNLDyTrXaWYgZymFkV</td>\n",
       "      <td>TuyPWsGQruPMpKvRxeBF</td>\n",
       "      <td>puhZPIYqKXeFPaUviSjo</td>\n",
       "      <td>desktop</td>\n",
       "      <td>Android</td>\n",
       "      <td>NaN</td>\n",
       "      <td>1920x1080</td>\n",
       "      <td>Chrome</td>\n",
       "      <td>Russia</td>\n",
       "      <td>(not set)</td>\n",
       "      <td>0</td>\n",
       "    </tr>\n",
       "    <tr>\n",
       "      <th>1897094</th>\n",
       "      <td>9055376699099939975.1630766214.1630766214</td>\n",
       "      <td>2108369185.163077</td>\n",
       "      <td>2021-09-04</td>\n",
       "      <td>17:00:00</td>\n",
       "      <td>1.0</td>\n",
       "      <td>fDLlAcSmythWSCVMvqvL</td>\n",
       "      <td>(none)</td>\n",
       "      <td>LTuZkdKfxRGVceoWkVyg</td>\n",
       "      <td>JNHcPlZPxEMWDnRiyoBf</td>\n",
       "      <td>puhZPIYqKXeFPaUviSjo</td>\n",
       "      <td>desktop</td>\n",
       "      <td>Android</td>\n",
       "      <td>NaN</td>\n",
       "      <td>1920x1080</td>\n",
       "      <td>Chrome</td>\n",
       "      <td>Russia</td>\n",
       "      <td>Khimki</td>\n",
       "      <td>1</td>\n",
       "    </tr>\n",
       "    <tr>\n",
       "      <th>1897102</th>\n",
       "      <td>9055415581448263752.1640159305.1640159305</td>\n",
       "      <td>2108378238.164016</td>\n",
       "      <td>2021-12-22</td>\n",
       "      <td>10:48:25</td>\n",
       "      <td>1.0</td>\n",
       "      <td>BHcvLfOaCWvWTykYqHVe</td>\n",
       "      <td>cpc</td>\n",
       "      <td>other</td>\n",
       "      <td>NaN</td>\n",
       "      <td>other1</td>\n",
       "      <td>desktop</td>\n",
       "      <td>Windows</td>\n",
       "      <td>NaN</td>\n",
       "      <td>1920x1080</td>\n",
       "      <td>Chrome</td>\n",
       "      <td>Russia</td>\n",
       "      <td>Moscow</td>\n",
       "      <td>0</td>\n",
       "    </tr>\n",
       "    <tr>\n",
       "      <th>1897106</th>\n",
       "      <td>9055430416266113553.1640968742.1640968742</td>\n",
       "      <td>2108381692.164097</td>\n",
       "      <td>2021-12-31</td>\n",
       "      <td>19:39:02</td>\n",
       "      <td>1.0</td>\n",
       "      <td>fgymSoTvjKPEgaIJqsiH</td>\n",
       "      <td>cpm</td>\n",
       "      <td>FTjNLDyTrXaWYgZymFkV</td>\n",
       "      <td>yYdBRbPmBMUZHXwqGxNx</td>\n",
       "      <td>other1</td>\n",
       "      <td>desktop</td>\n",
       "      <td>Linux</td>\n",
       "      <td>NaN</td>\n",
       "      <td>1366x768</td>\n",
       "      <td>Chrome</td>\n",
       "      <td>Russia</td>\n",
       "      <td>Moscow</td>\n",
       "      <td>0</td>\n",
       "    </tr>\n",
       "  </tbody>\n",
       "</table>\n",
       "<p>375251 rows × 18 columns</p>\n",
       "</div>"
      ],
      "text/plain": [
       "                                        session_id          client_id  \\\n",
       "28       9055505230298952295.1638478433.1638478433  2108399111.163848   \n",
       "63       9055657327967035032.1629707931.1629707931  2108434524.162971   \n",
       "64        905565977351442956.1622561294.1622561294   210843509.162256   \n",
       "67       9055678214400253418.1636965866.1636965866  2108439387.163696   \n",
       "73       9055788191321875859.1626006934.1626006934  2108464993.162601   \n",
       "...                                            ...                ...   \n",
       "1897090  9055354507009984602.1636829278.1636829278  2108364018.163683   \n",
       "1897092  9055363711117247375.1629176721.1629176721  2108366161.162918   \n",
       "1897094  9055376699099939975.1630766214.1630766214  2108369185.163077   \n",
       "1897102  9055415581448263752.1640159305.1640159305  2108378238.164016   \n",
       "1897106  9055430416266113553.1640968742.1640968742  2108381692.164097   \n",
       "\n",
       "         visit_date visit_time  visit_number            utm_source utm_medium  \\\n",
       "28       2021-12-02   23:53:53           1.0  fDLlAcSmythWSCVMvqvL     (none)   \n",
       "63       2021-08-23   11:00:00           1.0  nSReTmyFtbSjlPrTKoaX     banner   \n",
       "64       2021-06-01   18:00:00           1.0  fDLlAcSmythWSCVMvqvL     (none)   \n",
       "67       2021-11-15   11:44:26           1.0  fDLlAcSmythWSCVMvqvL     (none)   \n",
       "73       2021-07-11   15:00:00           1.0  fDLlAcSmythWSCVMvqvL     (none)   \n",
       "...             ...        ...           ...                   ...        ...   \n",
       "1897090  2021-11-13   21:47:58           1.0  vFcAhRxLfOWKhvxjELkx    organic   \n",
       "1897092  2021-08-17   08:00:00           1.0  PlbkrSYoHuZBWfYjYnfw        cpm   \n",
       "1897094  2021-09-04   17:00:00           1.0  fDLlAcSmythWSCVMvqvL     (none)   \n",
       "1897102  2021-12-22   10:48:25           1.0  BHcvLfOaCWvWTykYqHVe        cpc   \n",
       "1897106  2021-12-31   19:39:02           1.0  fgymSoTvjKPEgaIJqsiH        cpm   \n",
       "\n",
       "                 utm_campaign         utm_adcontent           utm_keyword  \\\n",
       "28       LTuZkdKfxRGVceoWkVyg  JNHcPlZPxEMWDnRiyoBf  puhZPIYqKXeFPaUviSjo   \n",
       "63                     other1  JNHcPlZPxEMWDnRiyoBf  puhZPIYqKXeFPaUviSjo   \n",
       "64       LTuZkdKfxRGVceoWkVyg  JNHcPlZPxEMWDnRiyoBf  puhZPIYqKXeFPaUviSjo   \n",
       "67       LTuZkdKfxRGVceoWkVyg  JNHcPlZPxEMWDnRiyoBf  puhZPIYqKXeFPaUviSjo   \n",
       "73       LTuZkdKfxRGVceoWkVyg  JNHcPlZPxEMWDnRiyoBf  puhZPIYqKXeFPaUviSjo   \n",
       "...                       ...                   ...                   ...   \n",
       "1897090  okTXSMadDkjvntEHzIjp  LLfCasrxQzJIyuldcuWy  aXQzDWsJuGXeBXexNHjc   \n",
       "1897092  FTjNLDyTrXaWYgZymFkV  TuyPWsGQruPMpKvRxeBF  puhZPIYqKXeFPaUviSjo   \n",
       "1897094  LTuZkdKfxRGVceoWkVyg  JNHcPlZPxEMWDnRiyoBf  puhZPIYqKXeFPaUviSjo   \n",
       "1897102                 other                   NaN                other1   \n",
       "1897106  FTjNLDyTrXaWYgZymFkV  yYdBRbPmBMUZHXwqGxNx                other1   \n",
       "\n",
       "        device_category device_os device_brand device_screen_resolution  \\\n",
       "28              desktop   Windows          NaN                 1536x864   \n",
       "63              desktop   Android          NaN                1920x1080   \n",
       "64              desktop   Android          NaN                1920x1080   \n",
       "67              desktop   Windows          NaN                1920x1080   \n",
       "73              desktop   Android          NaN                 1280x720   \n",
       "...                 ...       ...          ...                      ...   \n",
       "1897090         desktop   Windows          NaN                 1366x768   \n",
       "1897092         desktop   Android          NaN                1920x1080   \n",
       "1897094         desktop   Android          NaN                1920x1080   \n",
       "1897102         desktop   Windows          NaN                1920x1080   \n",
       "1897106         desktop     Linux          NaN                 1366x768   \n",
       "\n",
       "        device_browser geo_country          geo_city  event_action  \n",
       "28              Chrome      Russia        Balashikha             0  \n",
       "63           YaBrowser      Russia            Moscow             0  \n",
       "64              Chrome      Russia            Moscow             0  \n",
       "67              Chrome      Russia  Saint Petersburg             0  \n",
       "73              Chrome      Russia            Moscow             0  \n",
       "...                ...         ...               ...           ...  \n",
       "1897090        Firefox      Russia        Balashikha             0  \n",
       "1897092         Chrome      Russia         (not set)             0  \n",
       "1897094         Chrome      Russia            Khimki             1  \n",
       "1897102         Chrome      Russia            Moscow             0  \n",
       "1897106         Chrome      Russia            Moscow             0  \n",
       "\n",
       "[375251 rows x 18 columns]"
      ]
     },
     "execution_count": 191,
     "metadata": {},
     "output_type": "execute_result"
    }
   ],
   "source": [
    "# View remains Na from device_brand. Think)\n",
    "df.loc[df.device_brand.isna()]"
   ]
  },
  {
   "cell_type": "code",
   "execution_count": 200,
   "metadata": {
    "colab": {
     "base_uri": "https://localhost:8080/"
    },
    "id": "xVG2mnYmzDB7",
    "outputId": "af260009-0942-42a8-8da2-7e0dd36f96ed"
   },
   "outputs": [
    {
     "data": {
      "text/plain": [
       "device_browser\n",
       "Chrome                              1033193\n",
       "Safari                               489153\n",
       "YaBrowser                            136271\n",
       "Safari (in-app)                       70662\n",
       "Android Webview                       56506\n",
       "Samsung Internet                      47982\n",
       "Opera                                 27138\n",
       "Firefox                               16965\n",
       "Edge                                  16453\n",
       "UC Browser                              878\n",
       "Android Runtime                         392\n",
       "Mozilla Compatible Agent                362\n",
       "[FBAN                                   269\n",
       "Instagram 208.0.0.32.135 Android        140\n",
       "Instagram 209.0.0.21.119 Android        111\n",
       "MRCHROME                                 77\n",
       "Android Browser                          49\n",
       "Puffin                                   46\n",
       "Opera Mini                               45\n",
       "Internet Explorer                        36\n",
       "Maxthon                                  32\n",
       "Android                                  22\n",
       "Instagram 216.1.0.21.137 Android         19\n",
       "Mozilla                                  17\n",
       "(not set)                                17\n",
       "Instagram 216.0.0.12.135                 17\n",
       "Instagram 202.0.0.23.119                 17\n",
       "Instagram 194.0.0.36.172 Android         15\n",
       "Instagram 207.0.0.28.118                 14\n",
       "Instagram 202.0.0.37.123 Android         12\n",
       "com.vk.vkclient                           8\n",
       "Instagram 192.0.0.37.119                  7\n",
       "Amazon Silk                               7\n",
       "helloworld                                6\n",
       "Coc Coc                                   6\n",
       "Instagram 213.0.0.19.117                  6\n",
       "Instagram 203.0.0.26.117                  6\n",
       "Instagram 212.0.0.38.119 Android          6\n",
       "Instagram 201.0.0.23.111                  5\n",
       "Instagram 213.0.0.29.120 Android          5\n",
       "Instagram 208.0.0.26.131                  5\n",
       "SeaMonkey                                 4\n",
       "Instagram 192.0.0.35.123 Android          3\n",
       "Instagram 158.0.0.30.123 Android          3\n",
       "MyApp                                     2\n",
       "Iron                                      2\n",
       "Instagram 199.0.0.27.120                  2\n",
       "NetFront                                  2\n",
       "Instagram 199.1.0.34.119 Android          2\n",
       "com.zhiliaoapp.musically                  1\n",
       "Konqueror                                 1\n",
       "NokiaX2-02                                1\n",
       "Phantom Browser                           1\n",
       "Instagram 206.1.0.34.121 Android          1\n",
       "Nokia501                                  1\n",
       "MT6735_TD                                 1\n",
       "Threads 202.0.0.23.119                    1\n",
       "Name: count, dtype: int64"
      ]
     },
     "execution_count": 200,
     "metadata": {},
     "output_type": "execute_result"
    }
   ],
   "source": [
    "#View value_counts of device_browser\n",
    "df.device_browser.value_counts()"
   ]
  },
  {
   "cell_type": "code",
   "execution_count": 201,
   "metadata": {
    "colab": {
     "base_uri": "https://localhost:8080/"
    },
    "id": "ddznrKsx1AwA",
    "outputId": "b191df3b-095f-42d5-f363-1416eb96d64a"
   },
   "outputs": [
    {
     "data": {
      "text/plain": [
       "device_brand\n",
       "Apple        562614\n",
       "NaN          375251\n",
       "Samsung      339608\n",
       "Xiaomi       293007\n",
       "Huawei       188960\n",
       "Realme        19389\n",
       "(not set)     17883\n",
       "OPPO          13802\n",
       "Vivo          11996\n",
       "OnePlus       10051\n",
       "Name: count, dtype: int64"
      ]
     },
     "execution_count": 201,
     "metadata": {},
     "output_type": "execute_result"
    }
   ],
   "source": [
    "#View top 10 device_brand\n",
    "df.device_brand.value_counts(dropna=False).head(10)"
   ]
  },
  {
   "cell_type": "code",
   "execution_count": 202,
   "metadata": {
    "colab": {
     "base_uri": "https://localhost:8080/"
    },
    "id": "ULePaNOr1twI",
    "outputId": "6bdade65-1dcf-40f8-f4cd-a6608da2a608"
   },
   "outputs": [
    {
     "data": {
      "text/plain": [
       "device_browser\n",
       "Safari                      447178\n",
       "Safari (in-app)              70662\n",
       "Chrome                       26632\n",
       "YaBrowser                    18042\n",
       "Instagram 202.0.0.23.119        17\n",
       "Instagram 216.0.0.12.135        17\n",
       "UC Browser                      16\n",
       "Instagram 207.0.0.28.118        14\n",
       "Instagram 192.0.0.37.119         7\n",
       "Instagram 203.0.0.26.117         6\n",
       "Instagram 213.0.0.19.117         6\n",
       "Instagram 201.0.0.23.111         5\n",
       "Instagram 208.0.0.26.131         5\n",
       "MyApp                            2\n",
       "Instagram 199.0.0.27.120         2\n",
       "Iron                             2\n",
       "Edge                             1\n",
       "Name: count, dtype: int64"
      ]
     },
     "execution_count": 202,
     "metadata": {},
     "output_type": "execute_result"
    }
   ],
   "source": [
    "#View what kind of device_browser use in the Apple\n",
    "df.loc[(df.device_brand == 'Apple')].device_browser.value_counts(dropna=False)"
   ]
  },
  {
   "cell_type": "code",
   "execution_count": 203,
   "metadata": {
    "colab": {
     "base_uri": "https://localhost:8080/"
    },
    "id": "GjjixXTj2TgP",
    "outputId": "3d453ec1-4fa4-49c7-86b8-2a499288751f"
   },
   "outputs": [
    {
     "data": {
      "text/plain": [
       "array(['Safari', 'Safari (in-app)', 'Chrome', 'YaBrowser',\n",
       "       'Instagram 202.0.0.23.119', 'UC Browser',\n",
       "       'Instagram 207.0.0.28.118', 'Instagram 216.0.0.12.135',\n",
       "       'Instagram 192.0.0.37.119', 'Edge', 'MyApp',\n",
       "       'Instagram 201.0.0.23.111', 'Instagram 203.0.0.26.117',\n",
       "       'Instagram 208.0.0.26.131', 'Instagram 199.0.0.27.120',\n",
       "       'Instagram 213.0.0.19.117', 'Iron'], dtype=object)"
      ]
     },
     "execution_count": 203,
     "metadata": {},
     "output_type": "execute_result"
    }
   ],
   "source": [
    "df.loc[(df.device_brand == 'Apple')].device_browser.unique()"
   ]
  },
  {
   "cell_type": "code",
   "execution_count": 204,
   "metadata": {
    "colab": {
     "base_uri": "https://localhost:8080/"
    },
    "id": "F3C_1i7Z771A",
    "outputId": "366000c6-ca9e-4833-febf-50306a240ad3"
   },
   "outputs": [
    {
     "data": {
      "text/plain": [
       "array(['Chrome', 'Samsung Internet', 'Safari', 'YaBrowser',\n",
       "       'Android Webview', 'Safari (in-app)', 'Opera', 'Firefox', 'Edge',\n",
       "       'helloworld', 'Instagram 208.0.0.32.135 Android',\n",
       "       'Instagram 209.0.0.21.119 Android', 'Android Runtime',\n",
       "       'UC Browser', 'Mozilla Compatible Agent', '(not set)', 'Mozilla',\n",
       "       'Opera Mini', 'Coc Coc', 'Instagram 213.0.0.29.120 Android',\n",
       "       'Android', 'Instagram 216.1.0.21.137 Android', '[FBAN',\n",
       "       'Internet Explorer', 'Puffin', 'MRCHROME', 'com.vk.vkclient',\n",
       "       'Instagram 202.0.0.23.119', 'Android Browser', 'Maxthon',\n",
       "       'Instagram 207.0.0.28.118', 'Instagram 216.0.0.12.135',\n",
       "       'Instagram 199.1.0.34.119 Android', 'Instagram 192.0.0.37.119',\n",
       "       'Amazon Silk', 'SeaMonkey', 'Instagram 194.0.0.36.172 Android',\n",
       "       'Instagram 202.0.0.37.123 Android', 'MyApp', 'NetFront',\n",
       "       'Instagram 201.0.0.23.111', 'Instagram 203.0.0.26.117',\n",
       "       'Instagram 192.0.0.35.123 Android',\n",
       "       'Instagram 212.0.0.38.119 Android', 'Instagram 208.0.0.26.131',\n",
       "       'MT6735_TD', 'Instagram 199.0.0.27.120', 'NokiaX2-02',\n",
       "       'Instagram 158.0.0.30.123 Android', 'Nokia501',\n",
       "       'Instagram 206.1.0.34.121 Android', 'Phantom Browser',\n",
       "       'com.zhiliaoapp.musically', 'Konqueror',\n",
       "       'Instagram 213.0.0.19.117', 'Iron', 'Threads 202.0.0.23.119'],\n",
       "      dtype=object)"
      ]
     },
     "execution_count": 204,
     "metadata": {},
     "output_type": "execute_result"
    }
   ],
   "source": [
    "df.device_browser.unique()"
   ]
  },
  {
   "cell_type": "code",
   "execution_count": 205,
   "metadata": {
    "id": "SjSc6M1m4Fht"
   },
   "outputs": [],
   "source": [
    "# Creating list of Apple's device browsers\n",
    "list_apple_browser = ['Safari', 'Safari (in-app)', 'Edge', 'UC Browser','Instagram 208.0.0.32.135 Android', 'Instagram 209.0.0.21.119 Android',\n",
    "       'Instagram 213.0.0.29.120 Android', 'Instagram 216.1.0.21.137 Android', 'Instagram 202.0.0.23.119',\n",
    "       'Instagram 207.0.0.28.118', 'Instagram 216.0.0.12.135',\n",
    "       'Instagram 199.1.0.34.119 Android', 'Instagram 192.0.0.37.119', 'Instagram 194.0.0.36.172 Android',\n",
    "       'Instagram 202.0.0.37.123 Android',\n",
    "       'Instagram 201.0.0.23.111', 'Instagram 203.0.0.26.117',\n",
    "       'Instagram 192.0.0.35.123 Android',\n",
    "       'Instagram 212.0.0.38.119 Android', 'Instagram 208.0.0.26.131',\n",
    "      'Instagram 199.0.0.27.120',\n",
    "       'Instagram 158.0.0.30.123 Android',\n",
    "       'Instagram 206.1.0.34.121 Android',\n",
    "       'Instagram 213.0.0.19.117' ]"
   ]
  },
  {
   "cell_type": "code",
   "execution_count": 206,
   "metadata": {
    "id": "TK2hyva_4QYk"
   },
   "outputs": [],
   "source": [
    "#Fill Na in the Apple\n",
    "df['device_brand'] = df['device_brand'].mask((df.device_browser.isin(list_apple_browser)), 'Apple')"
   ]
  },
  {
   "cell_type": "code",
   "execution_count": 207,
   "metadata": {
    "id": "wN3CQH5I41al"
   },
   "outputs": [],
   "source": [
    "#Fill Na in the Samsung. (device_browser = Samsung Internet)\n",
    "df['device_brand'] = df['device_brand'].mask((df.device_browser == 'Samsung Internet'), 'Samsung')"
   ]
  },
  {
   "cell_type": "code",
   "execution_count": 208,
   "metadata": {
    "id": "_gsYUyvP7LQi"
   },
   "outputs": [],
   "source": [
    "# I don't now what else to do. Replace remainds \"Other\" values\n",
    "df['device_brand'].fillna('Other', inplace = True)"
   ]
  },
  {
   "cell_type": "code",
   "execution_count": 209,
   "metadata": {
    "colab": {
     "base_uri": "https://localhost:8080/"
    },
    "id": "Bi8h_XeB80Rq",
    "outputId": "fd26ec5b-fa80-4397-cef9-8ee423429845"
   },
   "outputs": [
    {
     "name": "stdout",
     "output_type": "stream",
     "text": [
      "(1897005, 18)\n"
     ]
    },
    {
     "data": {
      "text/plain": [
       "utm_adcontent               18.1\n",
       "session_id                   0.0\n",
       "device_category              0.0\n",
       "geo_city                     0.0\n",
       "geo_country                  0.0\n",
       "device_browser               0.0\n",
       "device_screen_resolution     0.0\n",
       "device_brand                 0.0\n",
       "device_os                    0.0\n",
       "utm_keyword                  0.0\n",
       "client_id                    0.0\n",
       "utm_campaign                 0.0\n",
       "utm_medium                   0.0\n",
       "utm_source                   0.0\n",
       "visit_number                 0.0\n",
       "visit_time                   0.0\n",
       "visit_date                   0.0\n",
       "event_action                 0.0\n",
       "dtype: float64"
      ]
     },
     "execution_count": 209,
     "metadata": {},
     "output_type": "execute_result"
    }
   ],
   "source": [
    "print(df.shape)\n",
    "missing_values(df)"
   ]
  },
  {
   "cell_type": "code",
   "execution_count": 214,
   "metadata": {
    "colab": {
     "base_uri": "https://localhost:8080/"
    },
    "id": "zQzhTKyxVCeR",
    "outputId": "6a45d723-204e-4ddd-f2ca-ed38aba5bc8c"
   },
   "outputs": [
    {
     "data": {
      "text/plain": [
       "device_brand\n",
       "Apple      32.80\n",
       "Samsung    17.94\n",
       "Other      16.67\n",
       "Xiaomi     15.43\n",
       "Huawei      9.94\n",
       "other1      6.20\n",
       "Realme      1.02\n",
       "Name: proportion, dtype: float64"
      ]
     },
     "execution_count": 214,
     "metadata": {},
     "output_type": "execute_result"
    }
   ],
   "source": [
    "df.device_brand.value_counts(normalize=True, dropna=False).mul(100).round(2).head(25)"
   ]
  },
  {
   "cell_type": "code",
   "execution_count": 211,
   "metadata": {
    "id": "aH7ma2MgVCeR"
   },
   "outputs": [],
   "source": [
    "columns_device_brand_for_save = ['Apple',\n",
    " 'Samsung',\n",
    " 'Other',\n",
    " 'Xiaomi',\n",
    " 'Huawei',\n",
    " 'Realme']"
   ]
  },
  {
   "cell_type": "code",
   "execution_count": 213,
   "metadata": {
    "id": "6XevswQzVCeR"
   },
   "outputs": [],
   "source": [
    "df.device_brand = df.device_brand.apply(lambda x: x if x in columns_device_brand_for_save else 'other1')"
   ]
  },
  {
   "cell_type": "code",
   "execution_count": 215,
   "metadata": {
    "colab": {
     "base_uri": "https://localhost:8080/"
    },
    "id": "lCry7K9tEObU",
    "outputId": "88402cb5-fbf7-408b-bc11-58ac17a77aaf"
   },
   "outputs": [
    {
     "data": {
      "text/plain": [
       "device_os\n",
       "Android          63.96\n",
       "iOS              29.66\n",
       "Windows           4.72\n",
       "Macintosh         1.35\n",
       "Linux             0.27\n",
       "(not set)         0.02\n",
       "Chrome OS         0.00\n",
       "BlackBerry        0.00\n",
       "Tizen             0.00\n",
       "Windows Phone     0.00\n",
       "Firefox OS        0.00\n",
       "Nokia             0.00\n",
       "Name: proportion, dtype: float64"
      ]
     },
     "execution_count": 215,
     "metadata": {},
     "output_type": "execute_result"
    }
   ],
   "source": [
    "df.device_os.value_counts(normalize=True, dropna=False).mul(100).round(2)"
   ]
  },
  {
   "cell_type": "code",
   "execution_count": 217,
   "metadata": {
    "colab": {
     "base_uri": "https://localhost:8080/"
    },
    "id": "zKKOnhhqEOfm",
    "outputId": "837dda96-43e2-4f7b-edbd-8ee877310293"
   },
   "outputs": [
    {
     "data": {
      "text/plain": [
       "['Android',\n",
       " 'iOS',\n",
       " 'Windows',\n",
       " 'Macintosh',\n",
       " 'Linux',\n",
       " '(not set)',\n",
       " 'Chrome OS',\n",
       " 'BlackBerry',\n",
       " 'Tizen',\n",
       " 'Windows Phone',\n",
       " 'Firefox OS',\n",
       " 'Nokia']"
      ]
     },
     "execution_count": 217,
     "metadata": {},
     "output_type": "execute_result"
    }
   ],
   "source": [
    "df.device_os.value_counts(normalize=True, dropna=False).index.to_list()"
   ]
  },
  {
   "cell_type": "code",
   "execution_count": 219,
   "metadata": {
    "id": "cUL_fb5WEOiB"
   },
   "outputs": [],
   "source": [
    "columns_device_os_for_save = ['Android',\n",
    " 'iOS',\n",
    " 'Windows',\n",
    " 'Macintosh',\n",
    " 'Linux']"
   ]
  },
  {
   "cell_type": "code",
   "execution_count": 220,
   "metadata": {
    "id": "9F1ssijQEOmN"
   },
   "outputs": [],
   "source": [
    "df.device_os = df.device_os.apply(lambda x: x if x in columns_device_os_for_save else 'other1')"
   ]
  },
  {
   "cell_type": "code",
   "execution_count": null,
   "metadata": {
    "id": "zP0KZasYEOo0"
   },
   "outputs": [],
   "source": []
  },
  {
   "cell_type": "markdown",
   "metadata": {
    "id": "vxpOSW-vVCeR"
   },
   "source": [
    "##### device_browser"
   ]
  },
  {
   "cell_type": "code",
   "execution_count": 221,
   "metadata": {
    "colab": {
     "base_uri": "https://localhost:8080/"
    },
    "id": "YnW0UCbMVCeR",
    "outputId": "3de762c6-781a-4a9d-825b-538635f5e3e7"
   },
   "outputs": [
    {
     "data": {
      "text/plain": [
       "device_browser\n",
       "Chrome                              54.5\n",
       "Safari                              25.8\n",
       "YaBrowser                            7.2\n",
       "Safari (in-app)                      3.7\n",
       "Android Webview                      3.0\n",
       "Samsung Internet                     2.5\n",
       "Opera                                1.4\n",
       "Firefox                              0.9\n",
       "Edge                                 0.9\n",
       "UC Browser                           0.0\n",
       "Android Runtime                      0.0\n",
       "Mozilla Compatible Agent             0.0\n",
       "[FBAN                                0.0\n",
       "Instagram 208.0.0.32.135 Android     0.0\n",
       "Instagram 209.0.0.21.119 Android     0.0\n",
       "Name: proportion, dtype: float64"
      ]
     },
     "execution_count": 221,
     "metadata": {},
     "output_type": "execute_result"
    }
   ],
   "source": [
    "df.device_browser.value_counts(normalize=True, dropna=False).mul(100).round(1).head(15)"
   ]
  },
  {
   "cell_type": "code",
   "execution_count": 226,
   "metadata": {
    "colab": {
     "base_uri": "https://localhost:8080/",
     "height": 707
    },
    "id": "8uLMCGejFFTD",
    "outputId": "0526bc19-a62a-466c-b009-065e60711168"
   },
   "outputs": [
    {
     "data": {
      "text/plain": [
       "<Axes: xlabel='device_browser', ylabel='Count'>"
      ]
     },
     "execution_count": 226,
     "metadata": {},
     "output_type": "execute_result"
    },
    {
     "data": {
      "image/png": "[encoded data removed]",
      "text/plain": [
       "<Figure size 640x480 with 1 Axes>"
      ]
     },
     "metadata": {},
     "output_type": "display_data"
    }
   ],
   "source": [
    "df['device_browser'].value_counts(dropna=False).head(15).plot(kind='bar', xlabel='device_browser', ylabel='Count', rot=90)"
   ]
  },
  {
   "cell_type": "code",
   "execution_count": 223,
   "metadata": {
    "colab": {
     "base_uri": "https://localhost:8080/"
    },
    "id": "jfGOOv13VCeR",
    "outputId": "a204dcf1-f345-4fdf-b15b-7909e7ee5b30"
   },
   "outputs": [
    {
     "data": {
      "text/plain": [
       "['Chrome',\n",
       " 'Safari',\n",
       " 'YaBrowser',\n",
       " 'Safari (in-app)',\n",
       " 'Android Webview',\n",
       " 'Samsung Internet',\n",
       " 'Opera',\n",
       " 'Firefox',\n",
       " 'Edge']"
      ]
     },
     "execution_count": 223,
     "metadata": {},
     "output_type": "execute_result"
    }
   ],
   "source": [
    "df.device_browser.value_counts(normalize=True, dropna=False).head(9).index.tolist()"
   ]
  },
  {
   "cell_type": "code",
   "execution_count": 224,
   "metadata": {
    "id": "Gx_h0h9dVCeR"
   },
   "outputs": [],
   "source": [
    "columns_device_browser_for_save = ['Chrome',\n",
    " 'Safari',\n",
    " 'YaBrowser',\n",
    " 'Safari (in-app)',\n",
    " 'Android Webview',\n",
    " 'Samsung Internet',\n",
    " 'Opera',\n",
    " 'Firefox',\n",
    " 'Edge']"
   ]
  },
  {
   "cell_type": "code",
   "execution_count": 225,
   "metadata": {
    "id": "KYP5qOkoVCeR"
   },
   "outputs": [],
   "source": [
    "df.device_browser = df.device_browser.apply(lambda x: x if x in columns_device_browser_for_save else 'other1')"
   ]
  },
  {
   "cell_type": "markdown",
   "metadata": {
    "id": "yLiMY-1hVCeS"
   },
   "source": [
    "##### geo_country"
   ]
  },
  {
   "cell_type": "code",
   "execution_count": 227,
   "metadata": {
    "colab": {
     "base_uri": "https://localhost:8080/"
    },
    "id": "mdasj27bVCeS",
    "outputId": "bc9d43ed-497d-4138-a49a-358410b115a9"
   },
   "outputs": [
    {
     "data": {
      "text/plain": [
       "geo_country\n",
       "Russia                  1836945\n",
       "United States             11823\n",
       "Ukraine                    9137\n",
       "Ireland                    4034\n",
       "Belarus                    3660\n",
       "Sweden                     2708\n",
       "Kazakhstan                 2308\n",
       "Germany                    2288\n",
       "Turkey                     1992\n",
       "Netherlands                1566\n",
       "Uzbekistan                 1535\n",
       "United Kingdom             1483\n",
       "(not set)                  1151\n",
       "Kyrgyzstan                  988\n",
       "Georgia                     957\n",
       "France                      807\n",
       "Cyprus                      777\n",
       "Armenia                     696\n",
       "Finland                     648\n",
       "Spain                       606\n",
       "Poland                      562\n",
       "United Arab Emirates        480\n",
       "Israel                      435\n",
       "Tajikistan                  404\n",
       "Moldova                     385\n",
       "Latvia                      357\n",
       "Italy                       356\n",
       "Azerbaijan                  332\n",
       "Egypt                       331\n",
       "Greece                      313\n",
       "Name: count, dtype: int64"
      ]
     },
     "execution_count": 227,
     "metadata": {},
     "output_type": "execute_result"
    }
   ],
   "source": [
    "df.geo_country.value_counts(normalize=True, dropna=False).mul(100).round(1).head(15)"
   ]
  },
  {
   "cell_type": "code",
   "execution_count": 232,
   "metadata": {
    "colab": {
     "base_uri": "https://localhost:8080/",
     "height": 579
    },
    "id": "PwER6_HfFUvj",
    "outputId": "ad3f980b-cd3d-4798-dc39-60256311e64d"
   },
   "outputs": [
    {
     "data": {
      "text/plain": [
       "<Axes: xlabel='geo_country', ylabel='Count'>"
      ]
     },
     "execution_count": 232,
     "metadata": {},
     "output_type": "execute_result"
    },
    {
     "data": {
      "image/png": "[encoded data removed]",
      "text/plain": [
       "<Figure size 640x480 with 1 Axes>"
      ]
     },
     "metadata": {},
     "output_type": "display_data"
    }
   ],
   "source": [
    "df['geo_country'].value_counts(dropna=False).head(15).plot(kind='bar', xlabel='geo_country', ylabel='Count', rot=90)"
   ]
  },
  {
   "cell_type": "code",
   "execution_count": 229,
   "metadata": {
    "colab": {
     "base_uri": "https://localhost:8080/"
    },
    "id": "ClVwXZufVCeS",
    "outputId": "8f52884f-49d9-493f-babd-9db87d6a440a"
   },
   "outputs": [
    {
     "data": {
      "text/plain": [
       "['Russia', 'United States', 'Ukraine', 'Ireland', 'Belarus']"
      ]
     },
     "execution_count": 229,
     "metadata": {},
     "output_type": "execute_result"
    }
   ],
   "source": [
    "df.geo_country.value_counts(normalize=True, dropna=False).head(5).index.tolist()"
   ]
  },
  {
   "cell_type": "code",
   "execution_count": 230,
   "metadata": {
    "id": "6xYa-JclVCeS"
   },
   "outputs": [],
   "source": [
    "columns_geo_country_for_save = ['Russia', 'United States', 'Ukraine','Ireland', 'Belarus']"
   ]
  },
  {
   "cell_type": "code",
   "execution_count": 231,
   "metadata": {
    "id": "jJQzFlmEVCeS"
   },
   "outputs": [],
   "source": [
    "df.geo_country = df.geo_country.apply(lambda x: x if x in columns_geo_country_for_save else 'other1')"
   ]
  },
  {
   "cell_type": "markdown",
   "metadata": {
    "id": "s40XugsVVCeS"
   },
   "source": [
    "#### geo_city"
   ]
  },
  {
   "cell_type": "code",
   "execution_count": 237,
   "metadata": {
    "colab": {
     "base_uri": "https://localhost:8080/"
    },
    "id": "WOpyZhFVVCeS",
    "outputId": "21e4b311-ff11-41a2-d22d-bf18f8afe548"
   },
   "outputs": [
    {
     "data": {
      "text/plain": [
       "geo_city\n",
       "Moscow              43.4\n",
       "Saint Petersburg    15.9\n",
       "(not set)            4.2\n",
       "Yekaterinburg        1.9\n",
       "Krasnodar            1.7\n",
       "Kazan                1.6\n",
       "Samara               1.3\n",
       "Nizhny Novgorod      1.2\n",
       "Ufa                  1.2\n",
       "Novosibirsk          1.2\n",
       "Krasnoyarsk          0.9\n",
       "Chelyabinsk          0.9\n",
       "Tula                 0.9\n",
       "Rostov-on-Don        0.7\n",
       "Voronezh             0.7\n",
       "Irkutsk              0.7\n",
       "Grozny               0.7\n",
       "Balashikha           0.7\n",
       "Vladivostok          0.7\n",
       "Yaroslavl            0.5\n",
       "Sochi                0.5\n",
       "Tyumen               0.5\n",
       "Khimki               0.4\n",
       "Saratov              0.4\n",
       "Perm                 0.3\n",
       "Name: proportion, dtype: float64"
      ]
     },
     "execution_count": 237,
     "metadata": {},
     "output_type": "execute_result"
    }
   ],
   "source": [
    "df.geo_city.value_counts(normalize=True, dropna=False).mul(100).round(1).head(25)"
   ]
  },
  {
   "cell_type": "code",
   "execution_count": 238,
   "metadata": {
    "colab": {
     "base_uri": "https://localhost:8080/",
     "height": 572
    },
    "id": "OQ4BUBCpF8gE",
    "outputId": "2795485f-a033-49ab-f148-8fdf49484d93"
   },
   "outputs": [
    {
     "data": {
      "text/plain": [
       "<Axes: xlabel='geo_city', ylabel='Count'>"
      ]
     },
     "execution_count": 238,
     "metadata": {},
     "output_type": "execute_result"
    },
    {
     "data": {
      "image/png": "[encoded data removed]",
      "text/plain": [
       "<Figure size 640x480 with 1 Axes>"
      ]
     },
     "metadata": {},
     "output_type": "display_data"
    }
   ],
   "source": [
    "df['geo_city'].value_counts(dropna=False).head(20).plot(kind='bar', xlabel='geo_city', ylabel='Count', rot=90)"
   ]
  },
  {
   "cell_type": "code",
   "execution_count": 240,
   "metadata": {
    "colab": {
     "base_uri": "https://localhost:8080/"
    },
    "id": "498fSMF2Gk5s",
    "outputId": "f56abb6e-9477-4933-e11b-38f149ae6344"
   },
   "outputs": [
    {
     "data": {
      "text/plain": [
       "['Moscow',\n",
       " 'Saint Petersburg',\n",
       " '(not set)',\n",
       " 'Yekaterinburg',\n",
       " 'Krasnodar',\n",
       " 'Kazan',\n",
       " 'Samara',\n",
       " 'Nizhny Novgorod',\n",
       " 'Ufa',\n",
       " 'Novosibirsk',\n",
       " 'Krasnoyarsk',\n",
       " 'Chelyabinsk',\n",
       " 'Tula',\n",
       " 'Rostov-on-Don',\n",
       " 'Voronezh',\n",
       " 'Irkutsk',\n",
       " 'Grozny',\n",
       " 'Balashikha',\n",
       " 'Vladivostok',\n",
       " 'Yaroslavl']"
      ]
     },
     "execution_count": 240,
     "metadata": {},
     "output_type": "execute_result"
    }
   ],
   "source": [
    "df.geo_city.value_counts(normalize=True, dropna=False).head(20).index.tolist()"
   ]
  },
  {
   "cell_type": "code",
   "execution_count": 241,
   "metadata": {
    "id": "OnfJ8jfwVCeS"
   },
   "outputs": [],
   "source": [
    "columns_geo_city_for_save = ['Moscow',\n",
    " 'Saint Petersburg',\n",
    " '(not set)',\n",
    " 'Yekaterinburg',\n",
    " 'Krasnodar',\n",
    " 'Kazan',\n",
    " 'Samara',\n",
    " 'Nizhny Novgorod',\n",
    " 'Ufa',\n",
    " 'Novosibirsk',\n",
    " 'Krasnoyarsk',\n",
    " 'Chelyabinsk',\n",
    " 'Tula',\n",
    " 'Rostov-on-Don',\n",
    " 'Voronezh',\n",
    " 'Irkutsk',\n",
    " 'Grozny',\n",
    " 'Balashikha',\n",
    " 'Vladivostok',\n",
    " 'Yaroslavl']"
   ]
  },
  {
   "cell_type": "code",
   "execution_count": 242,
   "metadata": {
    "id": "yvNM_MTSGxEK"
   },
   "outputs": [],
   "source": [
    "df.geo_city = df.geo_city.apply(lambda x: x if x in columns_geo_city_for_save else 'other1')"
   ]
  },
  {
   "cell_type": "markdown",
   "metadata": {
    "id": "6doO-yNcVCeT"
   },
   "source": [
    "##### utm_adcontent"
   ]
  },
  {
   "cell_type": "code",
   "execution_count": 244,
   "metadata": {
    "colab": {
     "base_uri": "https://localhost:8080/"
    },
    "id": "xR8Xcduy-P7Y",
    "outputId": "44ebaa76-71b7-411f-bf06-5b5a090c7139"
   },
   "outputs": [
    {
     "data": {
      "text/plain": [
       "utm_adcontent\n",
       "JNHcPlZPxEMWDnRiyoBf    54.4\n",
       "NaN                     18.1\n",
       "vCIpmpaGBnIQhyYNkXqp     9.7\n",
       "xhoenQgDQsgfEPYNPwKO     6.0\n",
       "PkybGvWbaqORmxjNunqZ     3.2\n",
       "LLfCasrxQzJIyuldcuWy     1.3\n",
       "TuyPWsGQruPMpKvRxeBF     1.0\n",
       "UxrnyMlRBSOhOjytXnMG     0.7\n",
       "dUuXlWzvmhDSyclWRhNP     0.5\n",
       "yYdBRbPmBMUZHXwqGxNx     0.5\n",
       "WYLajZgbUhGimwBKDZUH     0.5\n",
       "SOkCdPxfUcZUzzOdgGES     0.4\n",
       "AdeErYgVTbRcAWtHrMHq     0.3\n",
       "nNqUcgFgcqQbTVSvgaHr     0.3\n",
       "aYAcKhelKzYpXrRYknSP     0.3\n",
       "XSkXBCPfnJjvxbfeewtd     0.2\n",
       "XKsYZiUFcdkUXQpoLKyS     0.2\n",
       "FkiRXDLOWtzVfvhEkhNo     0.2\n",
       "xnyHaukLtAvgViiZSyBC     0.1\n",
       "SAVVWaMghGnnvPOqMOIt     0.1\n",
       "guyNoEvzgofQvvwExGOq     0.1\n",
       "LcGIUNPUAmXtQJaDfFBR     0.1\n",
       "qhEmhjPXvwgEHdBikgEQ     0.1\n",
       "sYzBROYhjSDbFZCpzGyf     0.1\n",
       "NhvfEqcSTGEZKxxvUZlj     0.1\n",
       "Name: proportion, dtype: float64"
      ]
     },
     "execution_count": 244,
     "metadata": {},
     "output_type": "execute_result"
    }
   ],
   "source": [
    "#Top 10 value_counts from utm_adcontent\n",
    "df.utm_adcontent.value_counts(normalize=True, dropna=False).mul(100).round(1).head(25)"
   ]
  },
  {
   "cell_type": "code",
   "execution_count": 250,
   "metadata": {
    "colab": {
     "base_uri": "https://localhost:8080/",
     "height": 662
    },
    "id": "krpOEpjoQefX",
    "outputId": "1acc67b3-c8c2-4b72-dbd2-d1ee9e7c68d0"
   },
   "outputs": [
    {
     "data": {
      "text/plain": [
       "<Axes: xlabel='utm_adcontent', ylabel='Count'>"
      ]
     },
     "execution_count": 250,
     "metadata": {},
     "output_type": "execute_result"
    },
    {
     "data": {
      "image/png": "[encoded data removed]",
      "text/plain": [
       "<Figure size 640x480 with 1 Axes>"
      ]
     },
     "metadata": {},
     "output_type": "display_data"
    }
   ],
   "source": [
    "df['utm_adcontent'].value_counts(dropna=False).head(20).plot(kind='bar', xlabel='utm_adcontent', ylabel='Count', rot=90)"
   ]
  },
  {
   "cell_type": "code",
   "execution_count": 246,
   "metadata": {
    "id": "NYPbXXcA-6Vg"
   },
   "outputs": [],
   "source": [
    "#Fill Na freq meaning\n",
    "df.utm_adcontent.fillna('JNHcPlZPxEMWDnRiyoBf', inplace = True)"
   ]
  },
  {
   "cell_type": "code",
   "execution_count": 247,
   "metadata": {
    "colab": {
     "base_uri": "https://localhost:8080/"
    },
    "id": "2gtnYxFCVCeT",
    "outputId": "82c1e7bf-9dee-4a69-957c-bc3f130d0931"
   },
   "outputs": [
    {
     "data": {
      "text/plain": [
       "['JNHcPlZPxEMWDnRiyoBf',\n",
       " 'vCIpmpaGBnIQhyYNkXqp',\n",
       " 'xhoenQgDQsgfEPYNPwKO',\n",
       " 'PkybGvWbaqORmxjNunqZ',\n",
       " 'LLfCasrxQzJIyuldcuWy',\n",
       " 'TuyPWsGQruPMpKvRxeBF',\n",
       " 'UxrnyMlRBSOhOjytXnMG',\n",
       " 'dUuXlWzvmhDSyclWRhNP',\n",
       " 'yYdBRbPmBMUZHXwqGxNx',\n",
       " 'WYLajZgbUhGimwBKDZUH']"
      ]
     },
     "execution_count": 247,
     "metadata": {},
     "output_type": "execute_result"
    }
   ],
   "source": [
    "df.utm_adcontent.value_counts(normalize=True, dropna=False).head(10).index.tolist()"
   ]
  },
  {
   "cell_type": "code",
   "execution_count": 248,
   "metadata": {
    "id": "k9TazHm4VCeT"
   },
   "outputs": [],
   "source": [
    "columns_utm_adcontent_for_save = ['JNHcPlZPxEMWDnRiyoBf',\n",
    " 'vCIpmpaGBnIQhyYNkXqp',\n",
    " 'xhoenQgDQsgfEPYNPwKO',\n",
    " 'PkybGvWbaqORmxjNunqZ',\n",
    " 'LLfCasrxQzJIyuldcuWy',\n",
    " 'TuyPWsGQruPMpKvRxeBF',\n",
    " 'UxrnyMlRBSOhOjytXnMG',\n",
    " 'dUuXlWzvmhDSyclWRhNP',\n",
    " 'yYdBRbPmBMUZHXwqGxNx',\n",
    " 'WYLajZgbUhGimwBKDZUH']"
   ]
  },
  {
   "cell_type": "code",
   "execution_count": 249,
   "metadata": {
    "id": "3UVYJBWfVCeT"
   },
   "outputs": [],
   "source": [
    "df.utm_adcontent = df.utm_adcontent.apply(lambda x: x if x in columns_utm_adcontent_for_save else 'other1')"
   ]
  },
  {
   "cell_type": "markdown",
   "metadata": {
    "id": "vTcp8Nc_VCeU"
   },
   "source": [
    "#### utm_source"
   ]
  },
  {
   "cell_type": "code",
   "execution_count": 251,
   "metadata": {
    "colab": {
     "base_uri": "https://localhost:8080/"
    },
    "id": "JCRalgU1VCeU",
    "outputId": "8956e37d-068b-4889-c985-23ee6cc376f0"
   },
   "outputs": [
    {
     "data": {
      "text/plain": [
       "utm_source\n",
       "ZpYIoDJMcFzVoPFsHGJL    31.16\n",
       "fDLlAcSmythWSCVMvqvL    16.21\n",
       "kjsLglQLzykiRbcDiGcD    14.30\n",
       "MvfHsxITijuriZxsqZqt     9.84\n",
       "BHcvLfOaCWvWTykYqHVe     6.31\n",
       "bByPQxmDaMXgpHeypKSM     5.60\n",
       "QxAxdyPLuQMEcrdZWdWb     2.78\n",
       "aXQzDWsJuGXeBXexNHjc     1.72\n",
       "jaSOmLICuBzCFqHfBdRg     1.56\n",
       "RmEBuqrriAfAVsLQQmhk     1.48\n",
       "vFcAhRxLfOWKhvxjELkx     1.29\n",
       "PlbkrSYoHuZBWfYjYnfw     1.10\n",
       "hTjLvqNxGggkGnxSCaTm     0.77\n",
       "gDBGzjFKYabGgSPZvrDH     0.72\n",
       "fgymSoTvjKPEgaIJqsiH     0.51\n",
       "ISrKoXQCxqqYvAZICvjs     0.46\n",
       "geDcueAOghDzHkGMmdOq     0.46\n",
       "nSReTmyFtbSjlPrTKoaX     0.39\n",
       "SzZERoLMmrEUEhDaYcyN     0.36\n",
       "eLzNJHzPelJpEyBwMrKo     0.28\n",
       "Name: proportion, dtype: float64"
      ]
     },
     "execution_count": 251,
     "metadata": {},
     "output_type": "execute_result"
    }
   ],
   "source": [
    "df.utm_source.value_counts(normalize=True, dropna=False).mul(100).round(2).head(20)"
   ]
  },
  {
   "cell_type": "code",
   "execution_count": 255,
   "metadata": {
    "colab": {
     "base_uri": "https://localhost:8080/",
     "height": 645
    },
    "id": "PmSOW-ZRRBRO",
    "outputId": "18ff67f4-37a8-41e9-f5d8-950c8662d28b"
   },
   "outputs": [
    {
     "data": {
      "text/plain": [
       "<Axes: xlabel='utm_source', ylabel='Count'>"
      ]
     },
     "execution_count": 255,
     "metadata": {},
     "output_type": "execute_result"
    },
    {
     "data": {
      "image/png": "[encoded data removed]",
      "text/plain": [
       "<Figure size 640x480 with 1 Axes>"
      ]
     },
     "metadata": {},
     "output_type": "display_data"
    }
   ],
   "source": [
    "df['utm_source'].value_counts(dropna=False).head(20).plot(kind='bar', xlabel='utm_source', ylabel='Count', rot=90)"
   ]
  },
  {
   "cell_type": "code",
   "execution_count": 253,
   "metadata": {
    "id": "PFrR2B0dVCeU"
   },
   "outputs": [],
   "source": [
    "columns_utm_source_for_save = ['ZpYIoDJMcFzVoPFsHGJL',\n",
    " 'fDLlAcSmythWSCVMvqvL',\n",
    " 'kjsLglQLzykiRbcDiGcD',\n",
    " 'MvfHsxITijuriZxsqZqt',\n",
    " 'BHcvLfOaCWvWTykYqHVe',\n",
    " 'bByPQxmDaMXgpHeypKSM',\n",
    " 'QxAxdyPLuQMEcrdZWdWb',\n",
    " 'aXQzDWsJuGXeBXexNHjc',\n",
    " 'jaSOmLICuBzCFqHfBdRg',\n",
    " 'RmEBuqrriAfAVsLQQmhk',\n",
    " 'vFcAhRxLfOWKhvxjELkx',\n",
    " 'PlbkrSYoHuZBWfYjYnfw',\n",
    " 'hTjLvqNxGggkGnxSCaTm',\n",
    " 'gDBGzjFKYabGgSPZvrDH',\n",
    " 'fgymSoTvjKPEgaIJqsiH',\n",
    " 'ISrKoXQCxqqYvAZICvjs',\n",
    " 'geDcueAOghDzHkGMmdOq',\n",
    " 'nSReTmyFtbSjlPrTKoaX',\n",
    " 'SzZERoLMmrEUEhDaYcyN',\n",
    " 'eLzNJHzPelJpEyBwMrKo']"
   ]
  },
  {
   "cell_type": "code",
   "execution_count": 254,
   "metadata": {
    "id": "jrBtMesrVCeU"
   },
   "outputs": [],
   "source": [
    "df.utm_source = df.utm_source.apply(lambda x: x if x in columns_utm_source_for_save else 'other1')"
   ]
  },
  {
   "cell_type": "markdown",
   "metadata": {
    "id": "EoWSO_RAVCeV"
   },
   "source": [
    "#### utm_medium"
   ]
  },
  {
   "cell_type": "code",
   "execution_count": 256,
   "metadata": {
    "colab": {
     "base_uri": "https://localhost:8080/"
    },
    "id": "S9vQ63HgVCeV",
    "outputId": "991f2b66-5de7-449c-a02a-d40b83c2b3d2"
   },
   "outputs": [
    {
     "data": {
      "text/plain": [
       "utm_medium\n",
       "banner             29.74\n",
       "cpc                23.35\n",
       "(none)             16.21\n",
       "cpm                12.80\n",
       "referral            8.33\n",
       "organic             3.40\n",
       "email               1.56\n",
       "push                1.52\n",
       "stories             0.56\n",
       "blogger_channel     0.43\n",
       "cpv                 0.42\n",
       "smartbanner         0.37\n",
       "cpa                 0.23\n",
       "blogger_stories     0.23\n",
       "tg                  0.21\n",
       "app                 0.15\n",
       "post                0.12\n",
       "smm                 0.11\n",
       "outlook             0.07\n",
       "clicks              0.05\n",
       "Name: proportion, dtype: float64"
      ]
     },
     "execution_count": 256,
     "metadata": {},
     "output_type": "execute_result"
    }
   ],
   "source": [
    "df.utm_medium.value_counts(normalize=True, dropna=False).mul(100).round(2).head(20)"
   ]
  },
  {
   "cell_type": "code",
   "execution_count": 257,
   "metadata": {
    "colab": {
     "base_uri": "https://localhost:8080/",
     "height": 568
    },
    "id": "Gte8lZAiHo6M",
    "outputId": "35e75f1d-c139-48cb-edbb-dfeda6b8c0b7"
   },
   "outputs": [
    {
     "data": {
      "text/plain": [
       "<Axes: xlabel='utm_medium', ylabel='Count'>"
      ]
     },
     "execution_count": 257,
     "metadata": {},
     "output_type": "execute_result"
    },
    {
     "data": {
      "image/png": "[encoded data removed]",
      "text/plain": [
       "<Figure size 640x480 with 1 Axes>"
      ]
     },
     "metadata": {},
     "output_type": "display_data"
    }
   ],
   "source": [
    "df['utm_medium'].value_counts(dropna=False).head(20).plot(kind='bar', xlabel='utm_medium', ylabel='Count', rot=90)"
   ]
  },
  {
   "cell_type": "code",
   "execution_count": 259,
   "metadata": {
    "colab": {
     "base_uri": "https://localhost:8080/"
    },
    "id": "JEEcFBQTVCeV",
    "outputId": "b956da83-a5b2-4212-f889-e0d3c668c9ad"
   },
   "outputs": [
    {
     "data": {
      "text/plain": [
       "['banner',\n",
       " 'cpc',\n",
       " '(none)',\n",
       " 'cpm',\n",
       " 'referral',\n",
       " 'organic',\n",
       " 'email',\n",
       " 'push',\n",
       " 'stories',\n",
       " 'blogger_channel']"
      ]
     },
     "execution_count": 259,
     "metadata": {},
     "output_type": "execute_result"
    }
   ],
   "source": [
    "df.utm_medium.value_counts(normalize=True, dropna=False).head(10).index.tolist()"
   ]
  },
  {
   "cell_type": "code",
   "execution_count": 261,
   "metadata": {
    "id": "zuLrlPHDVCeV"
   },
   "outputs": [],
   "source": [
    "columns_utm_medium_for_save = ['banner',\n",
    " 'cpc',\n",
    " '(none)',\n",
    " 'cpm',\n",
    " 'referral',\n",
    " 'organic',\n",
    " 'email',\n",
    " 'push',\n",
    " 'stories',\n",
    " 'blogger_channel']"
   ]
  },
  {
   "cell_type": "code",
   "execution_count": 262,
   "metadata": {
    "id": "2wvA_wniVCeV"
   },
   "outputs": [],
   "source": [
    "df.utm_medium = df.utm_medium.apply(lambda x: x if x in columns_utm_medium_for_save else 'other1')"
   ]
  },
  {
   "cell_type": "code",
   "execution_count": 263,
   "metadata": {
    "id": "TNv-7TKZ_Z1f"
   },
   "outputs": [],
   "source": [
    "#Save the result\n",
    "df.to_csv('../data/df_prepared.csv', index=False)"
   ]
  }
 ],
 "metadata": {
  "accelerator": "GPU",
  "colab": {
   "collapsed_sections": [
    "L-DxFOyIC_ov",
    "chaOpW1LBQWu",
    "CzZwUf59P_gR",
    "GdNIkpXe2m5F"
   ],
   "gpuType": "T4",
   "provenance": []
  },
  "kernelspec": {
   "display_name": "Python 3 (ipykernel)",
   "language": "python",
   "name": "python3"
  },
  "language_info": {
   "codemirror_mode": {
    "name": "ipython",
    "version": 3
   },
   "file_extension": ".py",
   "mimetype": "text/x-python",
   "name": "python",
   "nbconvert_exporter": "python",
   "pygments_lexer": "ipython3",
   "version": "3.11.5"
  }
 },
 "nbformat": 4,
 "nbformat_minor": 1
}
